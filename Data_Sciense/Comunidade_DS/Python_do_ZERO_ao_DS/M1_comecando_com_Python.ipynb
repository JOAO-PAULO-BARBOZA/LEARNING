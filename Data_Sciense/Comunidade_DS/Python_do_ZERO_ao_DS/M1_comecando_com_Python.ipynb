{
 "cells": [
  {
   "cell_type": "markdown",
   "id": "8422ea07",
   "metadata": {},
   "source": [
    "## Perguntas a serem respondidas.\n",
    "\n",
    "1. Quantas casas estão disponíveis para compra?\n",
    "2. Quantos atributos as casas possuem?\n",
    "3. Quais são os atributos das casas?\n",
    "4. Qual a casa mais cara ( casa com o maior valor de venda )?\n",
    "5. Qual a casa com o maior número de quartos?\n",
    "6. Qual a soma total de quartos do conjunto de dados?\n",
    "7. Quantas casas possuem 2 banheiros?\n",
    "8. Qual o preço médio de todas as casas no conjunto de dados?\n",
    "9. Qual o preço médio de casas com 2 banheiros?\n",
    "10. Qual o preço mínimo entre as casas com 3 quartos?\n",
    "11. Quantas casas possuem mais de 300 metros quadrados na sala de estar?\n",
    "12. Quantas casas tem mais de 2 andares?\n",
    "13. Quantas casas tem vista para o mar?\n",
    "14. Das casas com vista para o mar, quantas tem 3 quartos?\n",
    "15. Das casas com mais de 300 metros quadrados de sala de estar, quantas tem mais de 2 banheiros?"
   ]
  },
  {
   "cell_type": "code",
   "execution_count": 23,
   "id": "b9f14215",
   "metadata": {},
   "outputs": [],
   "source": [
    "import pandas as pd\n",
    "import numpy as np"
   ]
  },
  {
   "cell_type": "code",
   "execution_count": 5,
   "id": "34112a65",
   "metadata": {},
   "outputs": [],
   "source": [
    "df = pd.read_csv('kc_house_data.csv')"
   ]
  },
  {
   "cell_type": "markdown",
   "id": "5a049d14",
   "metadata": {},
   "source": [
    "## RESPOSTAS"
   ]
  },
  {
   "cell_type": "markdown",
   "id": "261c96dc",
   "metadata": {},
   "source": [
    "### 1. Quantas casas estão disponíveis para compra?\n"
   ]
  },
  {
   "cell_type": "code",
   "execution_count": 6,
   "id": "a3b85fcf",
   "metadata": {},
   "outputs": [
    {
     "data": {
      "text/plain": [
       "(21613, 21)"
      ]
     },
     "execution_count": 6,
     "metadata": {},
     "output_type": "execute_result"
    }
   ],
   "source": [
    "df.shape # especificamente 21.613 casas"
   ]
  },
  {
   "cell_type": "markdown",
   "id": "2f467463",
   "metadata": {},
   "source": [
    "### 2. Quantos atributos as casas possuem?\n"
   ]
  },
  {
   "cell_type": "markdown",
   "id": "dcd91d98",
   "metadata": {},
   "source": [
    "De acordo com as colunas mostradas acima são 21 atributos"
   ]
  },
  {
   "cell_type": "markdown",
   "id": "00bfa4d8",
   "metadata": {},
   "source": [
    "### 3. Quais são os atributos das casas?"
   ]
  },
  {
   "cell_type": "code",
   "execution_count": 7,
   "id": "2daeef5d",
   "metadata": {},
   "outputs": [
    {
     "data": {
      "text/plain": [
       "Index(['id', 'date', 'price', 'bedrooms', 'bathrooms', 'sqft_living',\n",
       "       'sqft_lot', 'floors', 'waterfront', 'view', 'condition', 'grade',\n",
       "       'sqft_above', 'sqft_basement', 'yr_built', 'yr_renovated', 'zipcode',\n",
       "       'lat', 'long', 'sqft_living15', 'sqft_lot15'],\n",
       "      dtype='object')"
      ]
     },
     "execution_count": 7,
     "metadata": {},
     "output_type": "execute_result"
    }
   ],
   "source": [
    "df.columns"
   ]
  },
  {
   "cell_type": "markdown",
   "id": "50d975c5",
   "metadata": {},
   "source": [
    "### 4. Qual a casa mais cara ( casa com o maior valor de venda )?\n"
   ]
  },
  {
   "cell_type": "code",
   "execution_count": 28,
   "id": "60bdeee7",
   "metadata": {},
   "outputs": [
    {
     "data": {
      "text/plain": [
       "7252    7700000.0\n",
       "Name: price, dtype: float64"
      ]
     },
     "execution_count": 28,
     "metadata": {},
     "output_type": "execute_result"
    }
   ],
   "source": [
    "df['price'].sort_values(ascending=False).head(1)"
   ]
  },
  {
   "cell_type": "markdown",
   "id": "c6a43b05",
   "metadata": {},
   "source": [
    "#### casa no valor de U$ 7.700.000,00 "
   ]
  },
  {
   "cell_type": "markdown",
   "id": "d80ebb33",
   "metadata": {},
   "source": [
    "### 5. Qual a casa com o maior número de quartos?\n"
   ]
  },
  {
   "cell_type": "code",
   "execution_count": 29,
   "id": "0676e1c5",
   "metadata": {},
   "outputs": [
    {
     "data": {
      "text/plain": [
       "15870    33\n",
       "Name: bedrooms, dtype: int64"
      ]
     },
     "execution_count": 29,
     "metadata": {},
     "output_type": "execute_result"
    }
   ],
   "source": [
    "df['bedrooms'].sort_values(ascending=False).head(1)"
   ]
  },
  {
   "cell_type": "markdown",
   "id": "0095c82c",
   "metadata": {},
   "source": [
    "#### Casa com 33 quartos"
   ]
  },
  {
   "cell_type": "markdown",
   "id": "3934b277",
   "metadata": {},
   "source": [
    "### 6. Qual a soma total de quartos do conjunto de dados?\n"
   ]
  },
  {
   "cell_type": "code",
   "execution_count": 10,
   "id": "4d8163eb",
   "metadata": {},
   "outputs": [
    {
     "data": {
      "text/plain": [
       "72854"
      ]
     },
     "execution_count": 10,
     "metadata": {},
     "output_type": "execute_result"
    }
   ],
   "source": [
    "df['bedrooms'].sum()"
   ]
  },
  {
   "cell_type": "markdown",
   "id": "2a4f2309",
   "metadata": {},
   "source": [
    "### 7. Quantas casas possuem 2 banheiros?\n"
   ]
  },
  {
   "cell_type": "code",
   "execution_count": 11,
   "id": "8ceae6e3",
   "metadata": {},
   "outputs": [
    {
     "data": {
      "text/plain": [
       "1930"
      ]
     },
     "execution_count": 11,
     "metadata": {},
     "output_type": "execute_result"
    }
   ],
   "source": [
    "df['bathrooms'].value_counts()[2.00]"
   ]
  },
  {
   "cell_type": "markdown",
   "id": "7cb84e44",
   "metadata": {},
   "source": [
    "#### 1930 casas com 2 banheiros"
   ]
  },
  {
   "cell_type": "markdown",
   "id": "e2397314",
   "metadata": {},
   "source": [
    "### 8. Qual o preço médio de todas as casas no conjunto de dados?\n"
   ]
  },
  {
   "cell_type": "code",
   "execution_count": 12,
   "id": "40457ef9",
   "metadata": {},
   "outputs": [
    {
     "data": {
      "text/plain": [
       "540088.1417665294"
      ]
     },
     "execution_count": 12,
     "metadata": {},
     "output_type": "execute_result"
    }
   ],
   "source": [
    "df['price'].mean()"
   ]
  },
  {
   "cell_type": "markdown",
   "id": "758da81d",
   "metadata": {},
   "source": [
    "### 9. Qual o preço médio de casas com 2 banheiros?\n"
   ]
  },
  {
   "cell_type": "code",
   "execution_count": 24,
   "id": "65a3aae0",
   "metadata": {},
   "outputs": [
    {
     "data": {
      "text/plain": [
       "457889.72"
      ]
     },
     "execution_count": 24,
     "metadata": {},
     "output_type": "execute_result"
    }
   ],
   "source": [
    "np.round(df.loc[df['bathrooms'] == 2, 'price'].mean(), 2)"
   ]
  },
  {
   "cell_type": "markdown",
   "id": "b4e9766a",
   "metadata": {},
   "source": [
    "### 10. Qual o preço mínimo entre as casas com 3 quartos?\n"
   ]
  },
  {
   "cell_type": "code",
   "execution_count": 27,
   "id": "b12fa66f",
   "metadata": {},
   "outputs": [
    {
     "data": {
      "text/plain": [
       "82000.0"
      ]
     },
     "execution_count": 27,
     "metadata": {},
     "output_type": "execute_result"
    }
   ],
   "source": [
    "df.loc[df['bedrooms'] == 3, 'price'].min()"
   ]
  },
  {
   "cell_type": "markdown",
   "id": "94f27859",
   "metadata": {},
   "source": [
    "### 11. Quantas casas possuem mais de 300 metros quadrados na sala de estar?\n"
   ]
  },
  {
   "cell_type": "markdown",
   "id": "d9b3f6e3",
   "metadata": {},
   "source": [
    "#### _Primeiro precisamos converter de pés pra metros quadrados_"
   ]
  },
  {
   "cell_type": "code",
   "execution_count": 63,
   "id": "e2d89b72",
   "metadata": {},
   "outputs": [],
   "source": [
    "df['living_m2'] = df['sqft_living'] * 0.093"
   ]
  },
  {
   "cell_type": "code",
   "execution_count": 64,
   "id": "57190a35",
   "metadata": {},
   "outputs": [
    {
     "data": {
      "text/plain": [
       "(2258, 22)"
      ]
     },
     "execution_count": 64,
     "metadata": {},
     "output_type": "execute_result"
    }
   ],
   "source": [
    "df.loc[df['living_m2'] > 300].shape"
   ]
  },
  {
   "cell_type": "markdown",
   "id": "07d096f9",
   "metadata": {},
   "source": [
    "#### _Um total de 2.258 casas_"
   ]
  },
  {
   "cell_type": "markdown",
   "id": "e3433624",
   "metadata": {},
   "source": [
    "### 12. Quantas casas tem mais de 2 andares?\n"
   ]
  },
  {
   "cell_type": "code",
   "execution_count": 41,
   "id": "dfcff335",
   "metadata": {},
   "outputs": [
    {
     "data": {
      "text/plain": [
       "(782, 21)"
      ]
     },
     "execution_count": 41,
     "metadata": {},
     "output_type": "execute_result"
    }
   ],
   "source": [
    "df.loc[df['floors'] > 2].shape"
   ]
  },
  {
   "cell_type": "markdown",
   "id": "5b3897a1",
   "metadata": {},
   "source": [
    "#### _Um total de 782 casas_"
   ]
  },
  {
   "cell_type": "markdown",
   "id": "c2e0b71d",
   "metadata": {},
   "source": [
    "### 13. Quantas casas tem vista para o mar?\n"
   ]
  },
  {
   "cell_type": "code",
   "execution_count": 44,
   "id": "ac99ac42",
   "metadata": {},
   "outputs": [
    {
     "data": {
      "text/plain": [
       "(163, 21)"
      ]
     },
     "execution_count": 44,
     "metadata": {},
     "output_type": "execute_result"
    }
   ],
   "source": [
    "df.loc[df['waterfront'] >= 1].shape"
   ]
  },
  {
   "cell_type": "markdown",
   "id": "2c8fa3c3",
   "metadata": {},
   "source": [
    "#### _Um total de 163 casas_"
   ]
  },
  {
   "cell_type": "markdown",
   "id": "e314c3d2",
   "metadata": {},
   "source": [
    "### 14. Das casas com vista para o mar, quantas tem 3 quartos?\n"
   ]
  },
  {
   "cell_type": "code",
   "execution_count": 55,
   "id": "cc9a716d",
   "metadata": {},
   "outputs": [
    {
     "data": {
      "text/plain": [
       "(64, 21)"
      ]
     },
     "execution_count": 55,
     "metadata": {},
     "output_type": "execute_result"
    }
   ],
   "source": [
    "houses_waterfront = df.loc[df['waterfront'] >= 1]\n",
    "houses_waterfront.loc[houses_waterfront['bedrooms'] == 3].shape"
   ]
  },
  {
   "cell_type": "markdown",
   "id": "d8dca976",
   "metadata": {},
   "source": [
    "#### _Um total de 64 casas_"
   ]
  },
  {
   "cell_type": "markdown",
   "id": "1926d141",
   "metadata": {},
   "source": [
    "### 15. Das casas com mais de 300 metros quadrados de sala de estar, quantas tem mais de 2 banheiros?"
   ]
  },
  {
   "cell_type": "code",
   "execution_count": 65,
   "id": "e69f2994",
   "metadata": {},
   "outputs": [],
   "source": [
    "houses_more_than_300 = df.loc[df['living_m2'] > 300]"
   ]
  },
  {
   "cell_type": "code",
   "execution_count": 66,
   "id": "99d94cbe",
   "metadata": {},
   "outputs": [
    {
     "data": {
      "text/plain": [
       "(2201, 22)"
      ]
     },
     "execution_count": 66,
     "metadata": {},
     "output_type": "execute_result"
    }
   ],
   "source": [
    "houses_more_than_300.loc[houses_more_than_300['bathrooms'] > 2].shape\n",
    "#len(houses_more_than_300.loc[houses_more_than_300['bathrooms'] > 2]) --> Outra forma de fazer\n"
   ]
  },
  {
   "cell_type": "markdown",
   "id": "47a8eee7",
   "metadata": {},
   "source": [
    "#### _Um total de 2.201 casas_"
   ]
  },
  {
   "cell_type": "code",
   "execution_count": null,
   "id": "8effddf8",
   "metadata": {},
   "outputs": [],
   "source": []
  },
  {
   "cell_type": "code",
   "execution_count": null,
   "id": "61ee4888",
   "metadata": {},
   "outputs": [],
   "source": []
  }
 ],
 "metadata": {
  "kernelspec": {
   "display_name": "Python 3 (ipykernel)",
   "language": "python",
   "name": "python3"
  },
  "language_info": {
   "codemirror_mode": {
    "name": "ipython",
    "version": 3
   },
   "file_extension": ".py",
   "mimetype": "text/x-python",
   "name": "python",
   "nbconvert_exporter": "python",
   "pygments_lexer": "ipython3",
   "version": "3.10.6"
  }
 },
 "nbformat": 4,
 "nbformat_minor": 5
}
