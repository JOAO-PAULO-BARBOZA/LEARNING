{
 "cells": [
  {
   "cell_type": "markdown",
   "id": "33da9b0d",
   "metadata": {},
   "source": [
    "### _Importações necessárias_"
   ]
  },
  {
   "cell_type": "code",
   "execution_count": 1,
   "id": "bf94d15e",
   "metadata": {},
   "outputs": [],
   "source": [
    "import pandas as pd\n",
    "from geopy.geocoders import Nominatim\n",
    "import ipywidgets as widgets\n",
    "import plotly.express as px\n",
    "\n",
    "pd.set_option('display.float_format', lambda x: '%.2f' % x)"
   ]
  },
  {
   "cell_type": "markdown",
   "id": "0360d8bf",
   "metadata": {},
   "source": [
    "### _Carregamento do arquivo a ser usado_"
   ]
  },
  {
   "cell_type": "code",
   "execution_count": 2,
   "id": "c4153447",
   "metadata": {},
   "outputs": [],
   "source": [
    "df = pd.read_csv('kc_house_data.csv')"
   ]
  },
  {
   "cell_type": "markdown",
   "id": "069ba192",
   "metadata": {},
   "source": [
    "# Mais algumas perguntas feitas pelo CEO"
   ]
  },
  {
   "cell_type": "markdown",
   "id": "82ae18c2",
   "metadata": {},
   "source": [
    "## 1. Qual a média do preço de compra dos imóveis por “Nível”?\n",
    "- Nível 0 -> Preço entre 0 e 321.950\n",
    "- Nível 1 -> Preço entre 321.950 e 450.000\n",
    "- Nível 2 -> Preço entre 450.000 e 645.000\n",
    "- Nível 3 -> Acima de 645.000"
   ]
  },
  {
   "cell_type": "code",
   "execution_count": 3,
   "id": "4126e7de",
   "metadata": {},
   "outputs": [],
   "source": [
    "# Primeiramente é necessário a criação da coluna level e atribuir valores de 0 a 3.\n",
    "\n",
    "# criação da coluna\n",
    "df['level'] = 'NA'\n"
   ]
  },
  {
   "cell_type": "code",
   "execution_count": 4,
   "id": "4e6902f4",
   "metadata": {},
   "outputs": [],
   "source": [
    "# Atribuição dos valores\n",
    "df['level_price'] = df['price'].apply(lambda n: 0 if n <= 321950 else\n",
    "                                          1 if (n > 321950 ) & (n <= 450000) else\n",
    "                                          2 if (n > 450000) & (n <= 650000 ) else\n",
    "                                          3)  "
   ]
  },
  {
   "cell_type": "code",
   "execution_count": 5,
   "id": "43f484ef",
   "metadata": {},
   "outputs": [
    {
     "data": {
      "text/html": [
       "<div>\n",
       "<style scoped>\n",
       "    .dataframe tbody tr th:only-of-type {\n",
       "        vertical-align: middle;\n",
       "    }\n",
       "\n",
       "    .dataframe tbody tr th {\n",
       "        vertical-align: top;\n",
       "    }\n",
       "\n",
       "    .dataframe thead th {\n",
       "        text-align: right;\n",
       "    }\n",
       "</style>\n",
       "<table border=\"1\" class=\"dataframe\">\n",
       "  <thead>\n",
       "    <tr style=\"text-align: right;\">\n",
       "      <th></th>\n",
       "      <th>level_price</th>\n",
       "      <th>price</th>\n",
       "    </tr>\n",
       "  </thead>\n",
       "  <tbody>\n",
       "    <tr>\n",
       "      <th>0</th>\n",
       "      <td>0</td>\n",
       "      <td>251557.65</td>\n",
       "    </tr>\n",
       "    <tr>\n",
       "      <th>1</th>\n",
       "      <td>1</td>\n",
       "      <td>385688.68</td>\n",
       "    </tr>\n",
       "    <tr>\n",
       "      <th>2</th>\n",
       "      <td>2</td>\n",
       "      <td>543019.37</td>\n",
       "    </tr>\n",
       "    <tr>\n",
       "      <th>3</th>\n",
       "      <td>3</td>\n",
       "      <td>998316.48</td>\n",
       "    </tr>\n",
       "  </tbody>\n",
       "</table>\n",
       "</div>"
      ],
      "text/plain": [
       "   level_price     price\n",
       "0            0 251557.65\n",
       "1            1 385688.68\n",
       "2            2 543019.37\n",
       "3            3 998316.48"
      ]
     },
     "execution_count": 5,
     "metadata": {},
     "output_type": "execute_result"
    }
   ],
   "source": [
    "# Média de preço por level\n",
    "\n",
    "df[['price', 'level_price']].groupby('level_price').mean().reset_index()"
   ]
  },
  {
   "cell_type": "markdown",
   "id": "0aa047b2",
   "metadata": {},
   "source": [
    "## 2. Qual a média do tamanho da sala de estar dos imóveis por “Size” ?\n",
    "- **Size 0 -> Tamanho entre 0 e 1427 sqft**\n",
    "- **Size 1 -> Tamanho entre 1427 e 1910 sqft**\n",
    "- **Size 2 -> Tamanho entre 1910 e 2550 sqft**\n",
    "- **Size 3 -> Tamanho acima de 2550 sqft**\n"
   ]
  },
  {
   "cell_type": "code",
   "execution_count": 6,
   "id": "1695db11",
   "metadata": {},
   "outputs": [],
   "source": [
    "# Primeiramente é necessário a criação da coluna size e atribuir valores de 0 a 3.\n",
    "\n",
    "# criação da coluna\n",
    "df['level'] = 'NA'\n",
    "\n",
    "# Atribuiçao dos valores\n",
    "df['size'] = df['sqft_living'].apply(lambda n: 0 if n <= 1427 else\n",
    "                                          1 if (n > 1427 ) & (n <= 1910) else\n",
    "                                          2 if (n > 1910) & (n <= 2550 ) else\n",
    "                                          3) "
   ]
  },
  {
   "cell_type": "code",
   "execution_count": 7,
   "id": "660ebf91",
   "metadata": {},
   "outputs": [
    {
     "data": {
      "text/html": [
       "<div>\n",
       "<style scoped>\n",
       "    .dataframe tbody tr th:only-of-type {\n",
       "        vertical-align: middle;\n",
       "    }\n",
       "\n",
       "    .dataframe tbody tr th {\n",
       "        vertical-align: top;\n",
       "    }\n",
       "\n",
       "    .dataframe thead th {\n",
       "        text-align: right;\n",
       "    }\n",
       "</style>\n",
       "<table border=\"1\" class=\"dataframe\">\n",
       "  <thead>\n",
       "    <tr style=\"text-align: right;\">\n",
       "      <th></th>\n",
       "      <th>size</th>\n",
       "      <th>sqft_living</th>\n",
       "    </tr>\n",
       "  </thead>\n",
       "  <tbody>\n",
       "    <tr>\n",
       "      <th>0</th>\n",
       "      <td>0</td>\n",
       "      <td>1123.83</td>\n",
       "    </tr>\n",
       "    <tr>\n",
       "      <th>1</th>\n",
       "      <td>1</td>\n",
       "      <td>1664.96</td>\n",
       "    </tr>\n",
       "    <tr>\n",
       "      <th>2</th>\n",
       "      <td>2</td>\n",
       "      <td>2211.79</td>\n",
       "    </tr>\n",
       "    <tr>\n",
       "      <th>3</th>\n",
       "      <td>3</td>\n",
       "      <td>3329.61</td>\n",
       "    </tr>\n",
       "  </tbody>\n",
       "</table>\n",
       "</div>"
      ],
      "text/plain": [
       "   size  sqft_living\n",
       "0     0      1123.83\n",
       "1     1      1664.96\n",
       "2     2      2211.79\n",
       "3     3      3329.61"
      ]
     },
     "execution_count": 7,
     "metadata": {},
     "output_type": "execute_result"
    }
   ],
   "source": [
    "# Média de sqft living por size\n",
    "\n",
    "\n",
    "df[['sqft_living', 'size']].groupby('size').mean().reset_index()"
   ]
  },
  {
   "cell_type": "markdown",
   "id": "ad52a3c0",
   "metadata": {},
   "source": [
    "## 3. Adicione as seguinte informações ao conjunto de dados original:\n",
    "- **Place ID: Identificação da localização**\n",
    "- **OSM Type: Open Street Map type**\n",
    "- **Country: Nome do País**\n",
    "- **Country Code: Código do País**\n"
   ]
  },
  {
   "cell_type": "code",
   "execution_count": 8,
   "id": "fd0bba1e",
   "metadata": {},
   "outputs": [],
   "source": [
    "# Inicializando a Nominatim API\n",
    "geo_locator = Nominatim(user_agent='geo_content_get')\n",
    "\n",
    "# Criação das novas colunas\n",
    "df[['place_id', 'osm_type', 'country', 'country_code']] = 'NA'\n"
   ]
  },
  {
   "cell_type": "code",
   "execution_count": 9,
   "id": "815653b5",
   "metadata": {},
   "outputs": [
    {
     "data": {
      "text/plain": [
       "21613"
      ]
     },
     "execution_count": 9,
     "metadata": {},
     "output_type": "execute_result"
    }
   ],
   "source": [
    "len(df)"
   ]
  },
  {
   "cell_type": "markdown",
   "id": "51309db4",
   "metadata": {},
   "source": [
    "# Por haver demora da coleta de dados na API estava dando Time Out e tive que fazer um tratamento de erro\n",
    "# Achei melhor optar pelo while para que ele se mantivesse no laço até que a coleta do dado fosse realizada\n",
    "\n",
    "count = 0\n",
    "while count < len(df):\n",
    "    try:\n",
    "        response = geo_locator.reverse(f\"{df.loc[count, 'lat']},{df.loc[count, 'long']}\")\n",
    "        df.loc[count, 'place_id'] = response.raw['place_id']\n",
    "        df.loc[count, 'osm_type'] = response.raw['osm_type']\n",
    "        df.loc[count, 'country'] = response.raw['address']['country']\n",
    "        df.loc[count, 'country_code'] = response.raw['address']['country_code']\n",
    "        print(response.raw['place_id'], response.raw['osm_type'], response.raw['address']['country'], response.raw['address']['country_code'])\n",
    "    except:\n",
    "        continue\n",
    "    count+=1\n",
    "while_progress    \n",
    "print('fim')"
   ]
  },
  {
   "cell_type": "code",
   "execution_count": 10,
   "id": "a25ffebf",
   "metadata": {},
   "outputs": [
    {
     "data": {
      "text/html": [
       "<div>\n",
       "<style scoped>\n",
       "    .dataframe tbody tr th:only-of-type {\n",
       "        vertical-align: middle;\n",
       "    }\n",
       "\n",
       "    .dataframe tbody tr th {\n",
       "        vertical-align: top;\n",
       "    }\n",
       "\n",
       "    .dataframe thead th {\n",
       "        text-align: right;\n",
       "    }\n",
       "</style>\n",
       "<table border=\"1\" class=\"dataframe\">\n",
       "  <thead>\n",
       "    <tr style=\"text-align: right;\">\n",
       "      <th></th>\n",
       "      <th>place_id</th>\n",
       "      <th>osm_type</th>\n",
       "      <th>country</th>\n",
       "      <th>country_code</th>\n",
       "    </tr>\n",
       "  </thead>\n",
       "  <tbody>\n",
       "    <tr>\n",
       "      <th>0</th>\n",
       "      <td>NA</td>\n",
       "      <td>NA</td>\n",
       "      <td>NA</td>\n",
       "      <td>NA</td>\n",
       "    </tr>\n",
       "    <tr>\n",
       "      <th>1</th>\n",
       "      <td>NA</td>\n",
       "      <td>NA</td>\n",
       "      <td>NA</td>\n",
       "      <td>NA</td>\n",
       "    </tr>\n",
       "    <tr>\n",
       "      <th>2</th>\n",
       "      <td>NA</td>\n",
       "      <td>NA</td>\n",
       "      <td>NA</td>\n",
       "      <td>NA</td>\n",
       "    </tr>\n",
       "    <tr>\n",
       "      <th>3</th>\n",
       "      <td>NA</td>\n",
       "      <td>NA</td>\n",
       "      <td>NA</td>\n",
       "      <td>NA</td>\n",
       "    </tr>\n",
       "    <tr>\n",
       "      <th>4</th>\n",
       "      <td>NA</td>\n",
       "      <td>NA</td>\n",
       "      <td>NA</td>\n",
       "      <td>NA</td>\n",
       "    </tr>\n",
       "    <tr>\n",
       "      <th>...</th>\n",
       "      <td>...</td>\n",
       "      <td>...</td>\n",
       "      <td>...</td>\n",
       "      <td>...</td>\n",
       "    </tr>\n",
       "    <tr>\n",
       "      <th>21608</th>\n",
       "      <td>NA</td>\n",
       "      <td>NA</td>\n",
       "      <td>NA</td>\n",
       "      <td>NA</td>\n",
       "    </tr>\n",
       "    <tr>\n",
       "      <th>21609</th>\n",
       "      <td>NA</td>\n",
       "      <td>NA</td>\n",
       "      <td>NA</td>\n",
       "      <td>NA</td>\n",
       "    </tr>\n",
       "    <tr>\n",
       "      <th>21610</th>\n",
       "      <td>NA</td>\n",
       "      <td>NA</td>\n",
       "      <td>NA</td>\n",
       "      <td>NA</td>\n",
       "    </tr>\n",
       "    <tr>\n",
       "      <th>21611</th>\n",
       "      <td>NA</td>\n",
       "      <td>NA</td>\n",
       "      <td>NA</td>\n",
       "      <td>NA</td>\n",
       "    </tr>\n",
       "    <tr>\n",
       "      <th>21612</th>\n",
       "      <td>NA</td>\n",
       "      <td>NA</td>\n",
       "      <td>NA</td>\n",
       "      <td>NA</td>\n",
       "    </tr>\n",
       "  </tbody>\n",
       "</table>\n",
       "<p>21613 rows × 4 columns</p>\n",
       "</div>"
      ],
      "text/plain": [
       "      place_id osm_type country country_code\n",
       "0           NA       NA      NA           NA\n",
       "1           NA       NA      NA           NA\n",
       "2           NA       NA      NA           NA\n",
       "3           NA       NA      NA           NA\n",
       "4           NA       NA      NA           NA\n",
       "...        ...      ...     ...          ...\n",
       "21608       NA       NA      NA           NA\n",
       "21609       NA       NA      NA           NA\n",
       "21610       NA       NA      NA           NA\n",
       "21611       NA       NA      NA           NA\n",
       "21612       NA       NA      NA           NA\n",
       "\n",
       "[21613 rows x 4 columns]"
      ]
     },
     "execution_count": 10,
     "metadata": {},
     "output_type": "execute_result"
    }
   ],
   "source": [
    "df[['place_id', 'osm_type', 'country', 'country_code']]"
   ]
  },
  {
   "cell_type": "markdown",
   "id": "eae83604",
   "metadata": {},
   "source": [
    "## 4. Adicione os seguinte filtros no Mapa:\n",
    "- **Tamanho mínimo da área da sala de estar.**\n",
    "- **Número mínimo de banheiros.**\n",
    "- **Valor Máximo do Preço.**\n",
    "- **Tamanho máximo da área do porão.**\n",
    "- **Filtro das Condições do Imóvel.**\n",
    "- **Filtro por Ano de Construção.**\n"
   ]
  },
  {
   "cell_type": "code",
   "execution_count": 11,
   "id": "7019d41b",
   "metadata": {},
   "outputs": [],
   "source": [
    "style = {'description_width': 'initial'}"
   ]
  },
  {
   "cell_type": "code",
   "execution_count": 12,
   "id": "8212dc95",
   "metadata": {},
   "outputs": [
    {
     "data": {
      "text/plain": [
       "array([1.  , 2.25, 3.  , 2.  , 4.5 , 1.5 , 2.5 , 1.75, 2.75, 3.25, 4.  ,\n",
       "       3.5 , 0.75, 4.75, 5.  , 4.25, 3.75, 0.  , 1.25, 5.25, 6.  , 0.5 ,\n",
       "       5.5 , 6.75, 5.75, 8.  , 7.5 , 7.75, 6.25, 6.5 ])"
      ]
     },
     "execution_count": 12,
     "metadata": {},
     "output_type": "execute_result"
    }
   ],
   "source": [
    "df['bathrooms'].unique()"
   ]
  },
  {
   "cell_type": "code",
   "execution_count": 13,
   "id": "aed053f3",
   "metadata": {},
   "outputs": [],
   "source": [
    "# Botões iterativos \n",
    "\n",
    "# Tamanho da sala de estar\n",
    "\n",
    "living_room_min = widgets.IntSlider(\n",
    "    value = 2079,\n",
    "    min = 290,\n",
    "    max = 13540,\n",
    "    step = 1,\n",
    "    description = 'Tamanho da sala de estar',\n",
    "    disable = False,\n",
    "    style = style)\n",
    "\n",
    "# Número máximo de banheiros\n",
    "\n",
    "bathrooms_numbers = widgets.Dropdown(\n",
    "    options= [1.  , 2.25, 3.  , 2.  , 4.5 , 1.5 , 2.5 , 1.75, 2.75, 3.25, 4.  ,\n",
    "       3.5 , 0.75, 4.75, 5.  , 4.25, 3.75, 0.  , 1.25, 5.25, 6.  , 0.5 ,\n",
    "       5.5 , 6.75, 5.75, 8.  , 7.5 , 7.75, 6.25, 6.5 ],\n",
    "    value= 2,\n",
    "    description='Número máximo de banheiros:',\n",
    "    disabled=False,\n",
    "    style = style\n",
    ")\n",
    "\n",
    "# Preço Máximo\n",
    "\n",
    "max_price = widgets.IntSlider(\n",
    "    value = 540088,\n",
    "    min = 75000,\n",
    "    max = 7700000,\n",
    "    step = 1,\n",
    "    description = 'Preço máximo',\n",
    "    disable = False,\n",
    "    style = style)\n",
    "\n",
    "# Tamanho máximo do porão\n",
    "\n",
    "max_sqft_basement = widgets.IntSlider(\n",
    "    value = 291,\n",
    "    min = 0,\n",
    "    max = 4820,\n",
    "    step = 1,\n",
    "    description = 'Tamanho máximo do porão',\n",
    "    disable = False,\n",
    "    style = style)\n",
    "\n",
    "# Condição do imóvel\n",
    "\n",
    "house_condition = widgets.Dropdown(\n",
    "    options= [3, 5, 4, 1, 2],\n",
    "    value= 2,\n",
    "    description='Condição do imóvel:',\n",
    "    disabled=False,\n",
    "    style = style\n",
    ")\n",
    "\n",
    "# Ano de construção\n",
    "\n",
    "btn_yr_built = widgets.IntSlider(\n",
    "    value = 1971,\n",
    "    min = 1900,\n",
    "    max = 2015,\n",
    "    step = 1,\n",
    "    description = 'Ano de construção',\n",
    "    disable = False,\n",
    "    style = style\n",
    "    )\n"
   ]
  },
  {
   "cell_type": "code",
   "execution_count": 18,
   "id": "4eba76cd",
   "metadata": {},
   "outputs": [
    {
     "ename": "TypeError",
     "evalue": "'<=' not supported between instances of 'int' and 'IntSlider'",
     "output_type": "error",
     "traceback": [
      "\u001b[0;31m---------------------------------------------------------------------------\u001b[0m",
      "\u001b[0;31mTypeError\u001b[0m                                 Traceback (most recent call last)",
      "Input \u001b[0;32mIn [18]\u001b[0m, in \u001b[0;36m<cell line: 3>\u001b[0;34m()\u001b[0m\n\u001b[1;32m      1\u001b[0m \u001b[38;5;66;03m# Criando os filtros\u001b[39;00m\n\u001b[0;32m----> 3\u001b[0m filtro \u001b[38;5;241m=\u001b[39m df[(\u001b[43mdf\u001b[49m\u001b[43m[\u001b[49m\u001b[38;5;124;43m'\u001b[39;49m\u001b[38;5;124;43msqft_living\u001b[39;49m\u001b[38;5;124;43m'\u001b[39;49m\u001b[43m]\u001b[49m\u001b[43m \u001b[49m\u001b[38;5;241;43m<\u001b[39;49m\u001b[38;5;241;43m=\u001b[39;49m\u001b[43m \u001b[49m\u001b[43mliving_room_min\u001b[49m) \n\u001b[1;32m      4\u001b[0m            \u001b[38;5;241m&\u001b[39m (df[\u001b[38;5;124m'\u001b[39m\u001b[38;5;124mbathrooms\u001b[39m\u001b[38;5;124m'\u001b[39m] \u001b[38;5;241m==\u001b[39m bathrooms_numbers)\n\u001b[1;32m      5\u001b[0m            \u001b[38;5;241m&\u001b[39m (df[\u001b[38;5;124m'\u001b[39m\u001b[38;5;124mprice\u001b[39m\u001b[38;5;124m'\u001b[39m] \u001b[38;5;241m==\u001b[39m max_price)\n\u001b[1;32m      6\u001b[0m            \u001b[38;5;241m&\u001b[39m (df[\u001b[38;5;124m'\u001b[39m\u001b[38;5;124msqft_basement\u001b[39m\u001b[38;5;124m'\u001b[39m] \u001b[38;5;241m==\u001b[39m max_sqft_basement)\n\u001b[1;32m      7\u001b[0m            \u001b[38;5;241m&\u001b[39m (df[\u001b[38;5;124m'\u001b[39m\u001b[38;5;124mcondition\u001b[39m\u001b[38;5;124m'\u001b[39m] \u001b[38;5;241m==\u001b[39m house_condition)\n\u001b[1;32m      8\u001b[0m            \u001b[38;5;241m&\u001b[39m (df[\u001b[38;5;124m'\u001b[39m\u001b[38;5;124myr_built\u001b[39m\u001b[38;5;124m'\u001b[39m] \u001b[38;5;241m==\u001b[39m btn_yr_built)\n\u001b[1;32m      9\u001b[0m ][[\u001b[38;5;124m'\u001b[39m\u001b[38;5;124mid\u001b[39m\u001b[38;5;124m'\u001b[39m, \u001b[38;5;124m'\u001b[39m\u001b[38;5;124mlat\u001b[39m\u001b[38;5;124m'\u001b[39m, \u001b[38;5;124m'\u001b[39m\u001b[38;5;124mlong\u001b[39m\u001b[38;5;124m'\u001b[39m, \u001b[38;5;124m'\u001b[39m\u001b[38;5;124mlevel_price\u001b[39m\u001b[38;5;124m'\u001b[39m, \u001b[38;5;124m'\u001b[39m\u001b[38;5;124msize\u001b[39m\u001b[38;5;124m'\u001b[39m, \u001b[38;5;124m'\u001b[39m\u001b[38;5;124mprice\u001b[39m\u001b[38;5;124m'\u001b[39m, \n\u001b[1;32m     10\u001b[0m    \u001b[38;5;124m'\u001b[39m\u001b[38;5;124mbathrooms\u001b[39m\u001b[38;5;124m'\u001b[39m, \u001b[38;5;124m'\u001b[39m\u001b[38;5;124msqft_basement\u001b[39m\u001b[38;5;124m'\u001b[39m, \u001b[38;5;124m'\u001b[39m\u001b[38;5;124myr_built\u001b[39m\u001b[38;5;124m'\u001b[39m, \u001b[38;5;124m'\u001b[39m\u001b[38;5;124mcondition\u001b[39m\u001b[38;5;124m'\u001b[39m, \u001b[38;5;124m'\u001b[39m\u001b[38;5;124msqft_living\u001b[39m\u001b[38;5;124m'\u001b[39m]]\n",
      "File \u001b[0;32m~/anaconda3/envs/comunidade_env/lib/python3.10/site-packages/pandas/core/ops/common.py:70\u001b[0m, in \u001b[0;36m_unpack_zerodim_and_defer.<locals>.new_method\u001b[0;34m(self, other)\u001b[0m\n\u001b[1;32m     66\u001b[0m             \u001b[38;5;28;01mreturn\u001b[39;00m \u001b[38;5;28mNotImplemented\u001b[39m\n\u001b[1;32m     68\u001b[0m other \u001b[38;5;241m=\u001b[39m item_from_zerodim(other)\n\u001b[0;32m---> 70\u001b[0m \u001b[38;5;28;01mreturn\u001b[39;00m \u001b[43mmethod\u001b[49m\u001b[43m(\u001b[49m\u001b[38;5;28;43mself\u001b[39;49m\u001b[43m,\u001b[49m\u001b[43m \u001b[49m\u001b[43mother\u001b[49m\u001b[43m)\u001b[49m\n",
      "File \u001b[0;32m~/anaconda3/envs/comunidade_env/lib/python3.10/site-packages/pandas/core/arraylike.py:52\u001b[0m, in \u001b[0;36mOpsMixin.__le__\u001b[0;34m(self, other)\u001b[0m\n\u001b[1;32m     50\u001b[0m \u001b[38;5;129m@unpack_zerodim_and_defer\u001b[39m(\u001b[38;5;124m\"\u001b[39m\u001b[38;5;124m__le__\u001b[39m\u001b[38;5;124m\"\u001b[39m)\n\u001b[1;32m     51\u001b[0m \u001b[38;5;28;01mdef\u001b[39;00m \u001b[38;5;21m__le__\u001b[39m(\u001b[38;5;28mself\u001b[39m, other):\n\u001b[0;32m---> 52\u001b[0m     \u001b[38;5;28;01mreturn\u001b[39;00m \u001b[38;5;28;43mself\u001b[39;49m\u001b[38;5;241;43m.\u001b[39;49m\u001b[43m_cmp_method\u001b[49m\u001b[43m(\u001b[49m\u001b[43mother\u001b[49m\u001b[43m,\u001b[49m\u001b[43m \u001b[49m\u001b[43moperator\u001b[49m\u001b[38;5;241;43m.\u001b[39;49m\u001b[43mle\u001b[49m\u001b[43m)\u001b[49m\n",
      "File \u001b[0;32m~/anaconda3/envs/comunidade_env/lib/python3.10/site-packages/pandas/core/series.py:5623\u001b[0m, in \u001b[0;36mSeries._cmp_method\u001b[0;34m(self, other, op)\u001b[0m\n\u001b[1;32m   5620\u001b[0m rvalues \u001b[38;5;241m=\u001b[39m extract_array(other, extract_numpy\u001b[38;5;241m=\u001b[39m\u001b[38;5;28;01mTrue\u001b[39;00m, extract_range\u001b[38;5;241m=\u001b[39m\u001b[38;5;28;01mTrue\u001b[39;00m)\n\u001b[1;32m   5622\u001b[0m \u001b[38;5;28;01mwith\u001b[39;00m np\u001b[38;5;241m.\u001b[39merrstate(\u001b[38;5;28mall\u001b[39m\u001b[38;5;241m=\u001b[39m\u001b[38;5;124m\"\u001b[39m\u001b[38;5;124mignore\u001b[39m\u001b[38;5;124m\"\u001b[39m):\n\u001b[0;32m-> 5623\u001b[0m     res_values \u001b[38;5;241m=\u001b[39m \u001b[43mops\u001b[49m\u001b[38;5;241;43m.\u001b[39;49m\u001b[43mcomparison_op\u001b[49m\u001b[43m(\u001b[49m\u001b[43mlvalues\u001b[49m\u001b[43m,\u001b[49m\u001b[43m \u001b[49m\u001b[43mrvalues\u001b[49m\u001b[43m,\u001b[49m\u001b[43m \u001b[49m\u001b[43mop\u001b[49m\u001b[43m)\u001b[49m\n\u001b[1;32m   5625\u001b[0m \u001b[38;5;28;01mreturn\u001b[39;00m \u001b[38;5;28mself\u001b[39m\u001b[38;5;241m.\u001b[39m_construct_result(res_values, name\u001b[38;5;241m=\u001b[39mres_name)\n",
      "File \u001b[0;32m~/anaconda3/envs/comunidade_env/lib/python3.10/site-packages/pandas/core/ops/array_ops.py:286\u001b[0m, in \u001b[0;36mcomparison_op\u001b[0;34m(left, right, op)\u001b[0m\n\u001b[1;32m    283\u001b[0m     res_values \u001b[38;5;241m=\u001b[39m comp_method_OBJECT_ARRAY(op, lvalues, rvalues)\n\u001b[1;32m    285\u001b[0m \u001b[38;5;28;01melse\u001b[39;00m:\n\u001b[0;32m--> 286\u001b[0m     res_values \u001b[38;5;241m=\u001b[39m \u001b[43m_na_arithmetic_op\u001b[49m\u001b[43m(\u001b[49m\u001b[43mlvalues\u001b[49m\u001b[43m,\u001b[49m\u001b[43m \u001b[49m\u001b[43mrvalues\u001b[49m\u001b[43m,\u001b[49m\u001b[43m \u001b[49m\u001b[43mop\u001b[49m\u001b[43m,\u001b[49m\u001b[43m \u001b[49m\u001b[43mis_cmp\u001b[49m\u001b[38;5;241;43m=\u001b[39;49m\u001b[38;5;28;43;01mTrue\u001b[39;49;00m\u001b[43m)\u001b[49m\n\u001b[1;32m    288\u001b[0m \u001b[38;5;28;01mreturn\u001b[39;00m res_values\n",
      "File \u001b[0;32m~/anaconda3/envs/comunidade_env/lib/python3.10/site-packages/pandas/core/ops/array_ops.py:163\u001b[0m, in \u001b[0;36m_na_arithmetic_op\u001b[0;34m(left, right, op, is_cmp)\u001b[0m\n\u001b[1;32m    160\u001b[0m     func \u001b[38;5;241m=\u001b[39m partial(expressions\u001b[38;5;241m.\u001b[39mevaluate, op)\n\u001b[1;32m    162\u001b[0m \u001b[38;5;28;01mtry\u001b[39;00m:\n\u001b[0;32m--> 163\u001b[0m     result \u001b[38;5;241m=\u001b[39m \u001b[43mfunc\u001b[49m\u001b[43m(\u001b[49m\u001b[43mleft\u001b[49m\u001b[43m,\u001b[49m\u001b[43m \u001b[49m\u001b[43mright\u001b[49m\u001b[43m)\u001b[49m\n\u001b[1;32m    164\u001b[0m \u001b[38;5;28;01mexcept\u001b[39;00m \u001b[38;5;167;01mTypeError\u001b[39;00m:\n\u001b[1;32m    165\u001b[0m     \u001b[38;5;28;01mif\u001b[39;00m \u001b[38;5;129;01mnot\u001b[39;00m is_cmp \u001b[38;5;129;01mand\u001b[39;00m (is_object_dtype(left\u001b[38;5;241m.\u001b[39mdtype) \u001b[38;5;129;01mor\u001b[39;00m is_object_dtype(right)):\n\u001b[1;32m    166\u001b[0m         \u001b[38;5;66;03m# For object dtype, fallback to a masked operation (only operating\u001b[39;00m\n\u001b[1;32m    167\u001b[0m         \u001b[38;5;66;03m#  on the non-missing values)\u001b[39;00m\n\u001b[1;32m    168\u001b[0m         \u001b[38;5;66;03m# Don't do this for comparisons, as that will handle complex numbers\u001b[39;00m\n\u001b[1;32m    169\u001b[0m         \u001b[38;5;66;03m#  incorrectly, see GH#32047\u001b[39;00m\n",
      "File \u001b[0;32m~/anaconda3/envs/comunidade_env/lib/python3.10/site-packages/pandas/core/computation/expressions.py:239\u001b[0m, in \u001b[0;36mevaluate\u001b[0;34m(op, a, b, use_numexpr)\u001b[0m\n\u001b[1;32m    236\u001b[0m \u001b[38;5;28;01mif\u001b[39;00m op_str \u001b[38;5;129;01mis\u001b[39;00m \u001b[38;5;129;01mnot\u001b[39;00m \u001b[38;5;28;01mNone\u001b[39;00m:\n\u001b[1;32m    237\u001b[0m     \u001b[38;5;28;01mif\u001b[39;00m use_numexpr:\n\u001b[1;32m    238\u001b[0m         \u001b[38;5;66;03m# error: \"None\" not callable\u001b[39;00m\n\u001b[0;32m--> 239\u001b[0m         \u001b[38;5;28;01mreturn\u001b[39;00m \u001b[43m_evaluate\u001b[49m\u001b[43m(\u001b[49m\u001b[43mop\u001b[49m\u001b[43m,\u001b[49m\u001b[43m \u001b[49m\u001b[43mop_str\u001b[49m\u001b[43m,\u001b[49m\u001b[43m \u001b[49m\u001b[43ma\u001b[49m\u001b[43m,\u001b[49m\u001b[43m \u001b[49m\u001b[43mb\u001b[49m\u001b[43m)\u001b[49m  \u001b[38;5;66;03m# type: ignore[misc]\u001b[39;00m\n\u001b[1;32m    240\u001b[0m \u001b[38;5;28;01mreturn\u001b[39;00m _evaluate_standard(op, op_str, a, b)\n",
      "File \u001b[0;32m~/anaconda3/envs/comunidade_env/lib/python3.10/site-packages/pandas/core/computation/expressions.py:128\u001b[0m, in \u001b[0;36m_evaluate_numexpr\u001b[0;34m(op, op_str, a, b)\u001b[0m\n\u001b[1;32m    125\u001b[0m     _store_test_result(result \u001b[38;5;129;01mis\u001b[39;00m \u001b[38;5;129;01mnot\u001b[39;00m \u001b[38;5;28;01mNone\u001b[39;00m)\n\u001b[1;32m    127\u001b[0m \u001b[38;5;28;01mif\u001b[39;00m result \u001b[38;5;129;01mis\u001b[39;00m \u001b[38;5;28;01mNone\u001b[39;00m:\n\u001b[0;32m--> 128\u001b[0m     result \u001b[38;5;241m=\u001b[39m \u001b[43m_evaluate_standard\u001b[49m\u001b[43m(\u001b[49m\u001b[43mop\u001b[49m\u001b[43m,\u001b[49m\u001b[43m \u001b[49m\u001b[43mop_str\u001b[49m\u001b[43m,\u001b[49m\u001b[43m \u001b[49m\u001b[43ma\u001b[49m\u001b[43m,\u001b[49m\u001b[43m \u001b[49m\u001b[43mb\u001b[49m\u001b[43m)\u001b[49m\n\u001b[1;32m    130\u001b[0m \u001b[38;5;28;01mreturn\u001b[39;00m result\n",
      "File \u001b[0;32m~/anaconda3/envs/comunidade_env/lib/python3.10/site-packages/pandas/core/computation/expressions.py:69\u001b[0m, in \u001b[0;36m_evaluate_standard\u001b[0;34m(op, op_str, a, b)\u001b[0m\n\u001b[1;32m     67\u001b[0m \u001b[38;5;28;01mif\u001b[39;00m _TEST_MODE:\n\u001b[1;32m     68\u001b[0m     _store_test_result(\u001b[38;5;28;01mFalse\u001b[39;00m)\n\u001b[0;32m---> 69\u001b[0m \u001b[38;5;28;01mreturn\u001b[39;00m \u001b[43mop\u001b[49m\u001b[43m(\u001b[49m\u001b[43ma\u001b[49m\u001b[43m,\u001b[49m\u001b[43m \u001b[49m\u001b[43mb\u001b[49m\u001b[43m)\u001b[49m\n",
      "\u001b[0;31mTypeError\u001b[0m: '<=' not supported between instances of 'int' and 'IntSlider'"
     ]
    }
   ],
   "source": [
    "# Criando os filtros\n",
    "\n",
    "filtro = df[(df['sqft_living'] <= living_room_min) \n",
    "           & (df['bathrooms'] == bathrooms_numbers)\n",
    "           & (df['price'] == max_price)\n",
    "           & (df['sqft_basement'] == max_sqft_basement)\n",
    "           & (df['condition'] == house_condition)\n",
    "           & (df['yr_built'] == btn_yr_built)\n",
    "][['id', 'lat', 'long', 'level_price', 'size', 'price', \n",
    "   'bathrooms', 'sqft_basement', 'yr_built', 'condition', 'sqft_living']]"
   ]
  },
  {
   "cell_type": "code",
   "execution_count": 15,
   "id": "ee7c021f",
   "metadata": {},
   "outputs": [],
   "source": [
    "# Criação do Mapa\n",
    "\n",
    "def update_map(df, lrm, bn, mp, msb, hc, byb):\n",
    "    filtro\n",
    "    mapa = px.scatter_mapbox(filtro, \n",
    "                      lat='lat', \n",
    "                      lon='long',\n",
    "                      hover_name='id',\n",
    "                      size='level_price',\n",
    "                      color='size',\n",
    "                      hover_data=['price'],\n",
    "                      color_discrete_sequence=['grey'],\n",
    "                      size_max=15,\n",
    "                      zoom=10,\n",
    "                     )\n",
    "    mapa.update_layout(mapbox_style='open-street-map')\n",
    "    mapa.update_layout(height=600, margin={'r':0, 't':0, 'l':0, 'b':0})\n",
    "    mapa.show();"
   ]
  },
  {
   "cell_type": "code",
   "execution_count": 16,
   "id": "e9f7ed67",
   "metadata": {},
   "outputs": [
    {
     "data": {
      "application/vnd.jupyter.widget-view+json": {
       "model_id": "3ae277ef097d44e7bf63e8eb69dcd876",
       "version_major": 2,
       "version_minor": 0
      },
      "text/plain": [
       "interactive(children=(IntSlider(value=2079, description='Tamanho da sala de estar', max=13540, min=290, style=…"
      ]
     },
     "metadata": {},
     "output_type": "display_data"
    }
   ],
   "source": [
    "widgets.interactive(update_map, df=widgets.fixed(df), lrm=living_room_min, bn=bathrooms_numbers, mp=max_price, msb=max_sqft_basement, hc=house_condition, byb=btn_yr_built)"
   ]
  },
  {
   "cell_type": "markdown",
   "id": "6384248f",
   "metadata": {},
   "source": [
    "## 5. Adicione os seguinte filtros no Dashboard:\n",
    "- **Filtro por data disponível para compra.**\n",
    "- **Filtro por ano de renovação.**\n",
    "- **Filtro se possui vista para a água ou não.**"
   ]
  },
  {
   "cell_type": "code",
   "execution_count": 17,
   "id": "0ed6eff9",
   "metadata": {},
   "outputs": [
    {
     "data": {
      "text/html": [
       "<div>\n",
       "<style scoped>\n",
       "    .dataframe tbody tr th:only-of-type {\n",
       "        vertical-align: middle;\n",
       "    }\n",
       "\n",
       "    .dataframe tbody tr th {\n",
       "        vertical-align: top;\n",
       "    }\n",
       "\n",
       "    .dataframe thead th {\n",
       "        text-align: right;\n",
       "    }\n",
       "</style>\n",
       "<table border=\"1\" class=\"dataframe\">\n",
       "  <thead>\n",
       "    <tr style=\"text-align: right;\">\n",
       "      <th></th>\n",
       "      <th>id</th>\n",
       "      <th>lat</th>\n",
       "      <th>long</th>\n",
       "      <th>level_price</th>\n",
       "      <th>size</th>\n",
       "      <th>price</th>\n",
       "      <th>bathrooms</th>\n",
       "      <th>sqft_basement</th>\n",
       "      <th>yr_built</th>\n",
       "      <th>condition</th>\n",
       "      <th>sqft_living</th>\n",
       "    </tr>\n",
       "  </thead>\n",
       "  <tbody>\n",
       "  </tbody>\n",
       "</table>\n",
       "</div>"
      ],
      "text/plain": [
       "Empty DataFrame\n",
       "Columns: [id, lat, long, level_price, size, price, bathrooms, sqft_basement, yr_built, condition, sqft_living]\n",
       "Index: []"
      ]
     },
     "execution_count": 17,
     "metadata": {},
     "output_type": "execute_result"
    }
   ],
   "source": [
    "filtro"
   ]
  },
  {
   "cell_type": "code",
   "execution_count": null,
   "id": "78d22452",
   "metadata": {},
   "outputs": [],
   "source": []
  }
 ],
 "metadata": {
  "kernelspec": {
   "display_name": "Python 3 (ipykernel)",
   "language": "python",
   "name": "python3"
  },
  "language_info": {
   "codemirror_mode": {
    "name": "ipython",
    "version": 3
   },
   "file_extension": ".py",
   "mimetype": "text/x-python",
   "name": "python",
   "nbconvert_exporter": "python",
   "pygments_lexer": "ipython3",
   "version": "3.10.6"
  }
 },
 "nbformat": 4,
 "nbformat_minor": 5
}
