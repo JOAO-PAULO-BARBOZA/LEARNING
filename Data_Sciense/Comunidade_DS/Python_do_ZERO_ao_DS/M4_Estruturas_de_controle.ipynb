{
 "cells": [
  {
   "cell_type": "markdown",
   "id": "33da9b0d",
   "metadata": {},
   "source": [
    "### _Importações necessárias_"
   ]
  },
  {
   "cell_type": "code",
   "execution_count": 67,
   "id": "bf94d15e",
   "metadata": {},
   "outputs": [],
   "source": [
    "import pandas as pd\n",
    "from geopy.geocoders import Nominatim\n",
    "from ipywidgets import fixed, interactive\n",
    "import ipywidgets as wg\n",
    "import plotly.express as px\n",
    "\n",
    "pd.set_option('display.float_format', lambda x: '%.2f' % x)"
   ]
  },
  {
   "cell_type": "markdown",
   "id": "0360d8bf",
   "metadata": {},
   "source": [
    "### _Carregamento do arquivo a ser usado_"
   ]
  },
  {
   "cell_type": "code",
   "execution_count": 68,
   "id": "c4153447",
   "metadata": {},
   "outputs": [],
   "source": [
    "df = pd.read_csv('kc_house_data.csv')"
   ]
  },
  {
   "cell_type": "markdown",
   "id": "069ba192",
   "metadata": {},
   "source": [
    "# Mais algumas perguntas feitas pelo CEO"
   ]
  },
  {
   "cell_type": "markdown",
   "id": "82ae18c2",
   "metadata": {},
   "source": [
    "## 1. Qual a média do preço de compra dos imóveis por “Nível”?\n",
    "- Nível 0 -> Preço entre 0 e 321.950\n",
    "- Nível 1 -> Preço entre 321.950 e 450.000\n",
    "- Nível 2 -> Preço entre 450.000 e 645.000\n",
    "- Nível 3 -> Acima de 645.000"
   ]
  },
  {
   "cell_type": "code",
   "execution_count": 47,
   "id": "4126e7de",
   "metadata": {},
   "outputs": [],
   "source": [
    "# Primeiramente é necessário a criação da coluna level e atribuir valores de 0 a 3.\n",
    "\n",
    "# criação da coluna\n",
    "df['level'] = 'NA'\n"
   ]
  },
  {
   "cell_type": "code",
   "execution_count": 48,
   "id": "4e6902f4",
   "metadata": {},
   "outputs": [],
   "source": [
    "# Atribuição dos valores\n",
    "df['level_price'] = df['price'].apply(lambda n: 0 if n <= 321950 else\n",
    "                                          1 if (n > 321950 ) & (n <= 450000) else\n",
    "                                          2 if (n > 450000) & (n <= 650000 ) else\n",
    "                                          3)  "
   ]
  },
  {
   "cell_type": "code",
   "execution_count": 49,
   "id": "43f484ef",
   "metadata": {},
   "outputs": [
    {
     "data": {
      "text/html": [
       "<div>\n",
       "<style scoped>\n",
       "    .dataframe tbody tr th:only-of-type {\n",
       "        vertical-align: middle;\n",
       "    }\n",
       "\n",
       "    .dataframe tbody tr th {\n",
       "        vertical-align: top;\n",
       "    }\n",
       "\n",
       "    .dataframe thead th {\n",
       "        text-align: right;\n",
       "    }\n",
       "</style>\n",
       "<table border=\"1\" class=\"dataframe\">\n",
       "  <thead>\n",
       "    <tr style=\"text-align: right;\">\n",
       "      <th></th>\n",
       "      <th>level_price</th>\n",
       "      <th>price</th>\n",
       "    </tr>\n",
       "  </thead>\n",
       "  <tbody>\n",
       "    <tr>\n",
       "      <th>0</th>\n",
       "      <td>0</td>\n",
       "      <td>251557.65</td>\n",
       "    </tr>\n",
       "    <tr>\n",
       "      <th>1</th>\n",
       "      <td>1</td>\n",
       "      <td>385688.68</td>\n",
       "    </tr>\n",
       "    <tr>\n",
       "      <th>2</th>\n",
       "      <td>2</td>\n",
       "      <td>543019.37</td>\n",
       "    </tr>\n",
       "    <tr>\n",
       "      <th>3</th>\n",
       "      <td>3</td>\n",
       "      <td>998316.48</td>\n",
       "    </tr>\n",
       "  </tbody>\n",
       "</table>\n",
       "</div>"
      ],
      "text/plain": [
       "   level_price     price\n",
       "0            0 251557.65\n",
       "1            1 385688.68\n",
       "2            2 543019.37\n",
       "3            3 998316.48"
      ]
     },
     "execution_count": 49,
     "metadata": {},
     "output_type": "execute_result"
    }
   ],
   "source": [
    "# Média de preço por level\n",
    "\n",
    "df[['price', 'level_price']].groupby('level_price').mean().reset_index()"
   ]
  },
  {
   "cell_type": "markdown",
   "id": "0aa047b2",
   "metadata": {},
   "source": [
    "## 2. Qual a média do tamanho da sala de estar dos imóveis por “Size” ?\n",
    "- **Size 0 -> Tamanho entre 0 e 1427 sqft**\n",
    "- **Size 1 -> Tamanho entre 1427 e 1910 sqft**\n",
    "- **Size 2 -> Tamanho entre 1910 e 2550 sqft**\n",
    "- **Size 3 -> Tamanho acima de 2550 sqft**\n"
   ]
  },
  {
   "cell_type": "code",
   "execution_count": 50,
   "id": "1695db11",
   "metadata": {},
   "outputs": [],
   "source": [
    "# Primeiramente é necessário a criação da coluna size e atribuir valores de 0 a 3.\n",
    "\n",
    "# criação da coluna\n",
    "df['level'] = 'NA'\n",
    "\n",
    "# Atribuiçao dos valores\n",
    "df['size'] = df['sqft_living'].apply(lambda n: 0 if n <= 1427 else\n",
    "                                          1 if (n > 1427 ) & (n <= 1910) else\n",
    "                                          2 if (n > 1910) & (n <= 2550 ) else\n",
    "                                          3) "
   ]
  },
  {
   "cell_type": "code",
   "execution_count": 51,
   "id": "660ebf91",
   "metadata": {},
   "outputs": [
    {
     "data": {
      "text/html": [
       "<div>\n",
       "<style scoped>\n",
       "    .dataframe tbody tr th:only-of-type {\n",
       "        vertical-align: middle;\n",
       "    }\n",
       "\n",
       "    .dataframe tbody tr th {\n",
       "        vertical-align: top;\n",
       "    }\n",
       "\n",
       "    .dataframe thead th {\n",
       "        text-align: right;\n",
       "    }\n",
       "</style>\n",
       "<table border=\"1\" class=\"dataframe\">\n",
       "  <thead>\n",
       "    <tr style=\"text-align: right;\">\n",
       "      <th></th>\n",
       "      <th>size</th>\n",
       "      <th>sqft_living</th>\n",
       "    </tr>\n",
       "  </thead>\n",
       "  <tbody>\n",
       "    <tr>\n",
       "      <th>0</th>\n",
       "      <td>0</td>\n",
       "      <td>1123.83</td>\n",
       "    </tr>\n",
       "    <tr>\n",
       "      <th>1</th>\n",
       "      <td>1</td>\n",
       "      <td>1664.96</td>\n",
       "    </tr>\n",
       "    <tr>\n",
       "      <th>2</th>\n",
       "      <td>2</td>\n",
       "      <td>2211.79</td>\n",
       "    </tr>\n",
       "    <tr>\n",
       "      <th>3</th>\n",
       "      <td>3</td>\n",
       "      <td>3329.61</td>\n",
       "    </tr>\n",
       "  </tbody>\n",
       "</table>\n",
       "</div>"
      ],
      "text/plain": [
       "   size  sqft_living\n",
       "0     0      1123.83\n",
       "1     1      1664.96\n",
       "2     2      2211.79\n",
       "3     3      3329.61"
      ]
     },
     "execution_count": 51,
     "metadata": {},
     "output_type": "execute_result"
    }
   ],
   "source": [
    "# Média de sqft living por size\n",
    "\n",
    "\n",
    "df[['sqft_living', 'size']].groupby('size').mean().reset_index()"
   ]
  },
  {
   "cell_type": "markdown",
   "id": "ad52a3c0",
   "metadata": {},
   "source": [
    "## 3. Adicione as seguinte informações ao conjunto de dados original:\n",
    "- **Place ID: Identificação da localização**\n",
    "- **OSM Type: Open Street Map type**\n",
    "- **Country: Nome do País**\n",
    "- **Country Code: Código do País**\n"
   ]
  },
  {
   "cell_type": "markdown",
   "id": "585eb5ba",
   "metadata": {},
   "source": [
    "# _Primeiro método usando o condicional while, método esse mais demorado e contraproducente._\n"
   ]
  },
  {
   "cell_type": "code",
   "execution_count": 52,
   "id": "fd0bba1e",
   "metadata": {},
   "outputs": [],
   "source": [
    "# Inicializando a Nominatim API\n",
    "geo_locator = Nominatim(user_agent='geo_content_get')\n",
    "\n",
    "# Criação das novas colunas\n",
    "df[['place_id', 'osm_type', 'country', 'country_code']] = 'NA'\n"
   ]
  },
  {
   "cell_type": "code",
   "execution_count": 53,
   "id": "815653b5",
   "metadata": {},
   "outputs": [
    {
     "data": {
      "text/plain": [
       "21613"
      ]
     },
     "execution_count": 53,
     "metadata": {},
     "output_type": "execute_result"
    }
   ],
   "source": [
    "len(df)"
   ]
  },
  {
   "cell_type": "markdown",
   "id": "729efd7e",
   "metadata": {},
   "source": [
    "### Por haver demora da coleta de dados na API estava dando Time Out e tive que fazer um tratamento de erro\n",
    "### Achei melhor optar pelo while para que ele se mantivesse no laço até que a coleta do dado fosse realizada\n",
    "```py\n",
    "count = 0\n",
    "while count < len(df):\n",
    "    try:\n",
    "        response = geo_locator.reverse(f\"{df.loc[count, 'lat']},{df.loc[count, 'long']}\")\n",
    "        df.loc[count, 'place_id'] = response.raw['place_id']\n",
    "        df.loc[count, 'osm_type'] = response.raw['osm_type']\n",
    "        df.loc[count, 'country'] = response.raw['address']['country']\n",
    "        df.loc[count, 'country_code'] = response.raw['address']['country_code']\n",
    "        print(response.raw['place_id'], response.raw['osm_type'], response.raw['address']['country'], response.raw['address']['country_code'])\n",
    "    except:\n",
    "        continue\n",
    "    count+=1\n",
    "while_progress    \n",
    "print('fim')\n",
    "\n",
    "df[['place_id', 'osm_type', 'country', 'country_code']]\n",
    "```"
   ]
  },
  {
   "cell_type": "markdown",
   "id": "9da17854",
   "metadata": {},
   "source": [
    "# _Segundo método usando Multithreds_ "
   ]
  },
  {
   "cell_type": "markdown",
   "id": "2ba375bd",
   "metadata": {},
   "source": [
    "### Bibliotecas necessárias"
   ]
  },
  {
   "cell_type": "code",
   "execution_count": 133,
   "id": "dcbe2611",
   "metadata": {},
   "outputs": [],
   "source": [
    "from multiprocessing import Pool # necessária para criação dos workers"
   ]
  },
  {
   "cell_type": "markdown",
   "id": "3058bcfc",
   "metadata": {},
   "source": [
    "### É necessári a criação de uma função para fazer o trabalho de multithreding"
   ]
  },
  {
   "cell_type": "markdown",
   "id": "5644a8ba",
   "metadata": {},
   "source": [
    "#### Função que esta dentro do módulo df_constructor\n",
    "\n",
    "```py\n",
    "from time import sleep\n",
    "from geopy.geocoders import Nominatim\n",
    "\n",
    "# Criação do geo_locator\n",
    "geo_locator = Nominatim(user_agent=\"geoTantoFaz\")\n",
    "\n",
    "def get_data(new_df): \n",
    "    index, row = new_df\n",
    "    sleep(1)\n",
    "    # Chamada da API\n",
    "    response = geo_locator.reverse(new_df['location'])\n",
    "    \n",
    "    address = response.raw['address']\n",
    "    place_id = response.raw['place_id']\n",
    "    osm_type = response.raw['osm_type']\n",
    "    country = address['country']\n",
    "    country_code = address['country_code']\n",
    "    return place_id, osm_type, country, country_code\n",
    "```"
   ]
  },
  {
   "cell_type": "markdown",
   "id": "2d1f15f5",
   "metadata": {},
   "source": [
    "#### Importante frizar que esta função vai ser criada fora do JN, a função acima é só uma ilustração da função que esta dentro de um módulo chamado df_constructor. Foi criada fora devido aos problemas que o JN tem com Multithreding."
   ]
  },
  {
   "cell_type": "markdown",
   "id": "e8fcfcfe",
   "metadata": {},
   "source": [
    "## Agora vamos a criação do dataframe com as informações solicitadas"
   ]
  },
  {
   "cell_type": "code",
   "execution_count": 134,
   "id": "fe97c3a9",
   "metadata": {},
   "outputs": [],
   "source": [
    "# Criada a coluna location com as coordenadas \n",
    "\n",
    "df['location'] = df[['lat', 'long']].apply(lambda zeta: f\"{zeta['lat']},{zeta['long']}\", axis=1)"
   ]
  },
  {
   "cell_type": "code",
   "execution_count": 135,
   "id": "69d69bb9",
   "metadata": {},
   "outputs": [],
   "source": [
    "# Criação dos workers\n",
    "\n",
    "workers = Pool(2) # Haverá 2 cores trabalhando"
   ]
  },
  {
   "cell_type": "markdown",
   "id": "fe76ae1d",
   "metadata": {},
   "source": [
    "### Módulo criado anteriormente"
   ]
  },
  {
   "cell_type": "code",
   "execution_count": 136,
   "id": "12613df2",
   "metadata": {},
   "outputs": [],
   "source": [
    "import df_constructor"
   ]
  },
  {
   "cell_type": "code",
   "execution_count": 137,
   "id": "72ddd04d",
   "metadata": {},
   "outputs": [
    {
     "ename": "TypeError",
     "evalue": "tuple indices must be integers or slices, not str",
     "output_type": "error",
     "traceback": [
      "\u001b[0;31m---------------------------------------------------------------------------\u001b[0m",
      "\u001b[0;31mRemoteTraceback\u001b[0m                           Traceback (most recent call last)",
      "\u001b[0;31mRemoteTraceback\u001b[0m: \n\"\"\"\nTraceback (most recent call last):\n  File \"/home/j-paulo/anaconda3/envs/comunidade_env/lib/python3.10/multiprocessing/pool.py\", line 125, in worker\n    result = (True, func(*args, **kwds))\n  File \"/home/j-paulo/anaconda3/envs/comunidade_env/lib/python3.10/multiprocessing/pool.py\", line 48, in mapstar\n    return list(map(*args))\n  File \"/home/j-paulo/PROGRAMMER/LEARNING/Data_Sciense/Comunidade_DS/Python_do_ZERO_ao_DS/df_constructor.py\", line 11, in get_data\n    response = geo_locator.reverse(row['location'])\nTypeError: tuple indices must be integers or slices, not str\n\"\"\"",
      "\nThe above exception was the direct cause of the following exception:\n",
      "\u001b[0;31mTypeError\u001b[0m                                 Traceback (most recent call last)",
      "Input \u001b[0;32mIn [137]\u001b[0m, in \u001b[0;36m<cell line: 6>\u001b[0;34m()\u001b[0m\n\u001b[1;32m      1\u001b[0m \u001b[38;5;66;03m# Criando o dataframe com os dados\u001b[39;00m\n\u001b[1;32m      3\u001b[0m new_df \u001b[38;5;241m=\u001b[39m df[[\u001b[38;5;124m'\u001b[39m\u001b[38;5;124mid\u001b[39m\u001b[38;5;124m'\u001b[39m, \u001b[38;5;124m'\u001b[39m\u001b[38;5;124mlocation\u001b[39m\u001b[38;5;124m'\u001b[39m]]\u001b[38;5;241m.\u001b[39mhead()\n\u001b[0;32m----> 6\u001b[0m new_df[[\u001b[38;5;124m'\u001b[39m\u001b[38;5;124mplace_id\u001b[39m\u001b[38;5;124m'\u001b[39m, \u001b[38;5;124m'\u001b[39m\u001b[38;5;124mosm_type\u001b[39m\u001b[38;5;124m'\u001b[39m, \u001b[38;5;124m'\u001b[39m\u001b[38;5;124mcountry\u001b[39m\u001b[38;5;124m'\u001b[39m, \u001b[38;5;124m'\u001b[39m\u001b[38;5;124mcountry_code\u001b[39m\u001b[38;5;124m'\u001b[39m]] \u001b[38;5;241m=\u001b[39m \u001b[43mworkers\u001b[49m\u001b[38;5;241;43m.\u001b[39;49m\u001b[43mmap\u001b[49m\u001b[43m(\u001b[49m\u001b[43mdf_constructor\u001b[49m\u001b[38;5;241;43m.\u001b[39;49m\u001b[43mget_data\u001b[49m\u001b[43m,\u001b[49m\u001b[43m \u001b[49m\u001b[43mnew_df\u001b[49m\u001b[38;5;241;43m.\u001b[39;49m\u001b[43miterrows\u001b[49m\u001b[43m(\u001b[49m\u001b[43m)\u001b[49m\u001b[43m)\u001b[49m\n",
      "File \u001b[0;32m~/anaconda3/envs/comunidade_env/lib/python3.10/multiprocessing/pool.py:367\u001b[0m, in \u001b[0;36mPool.map\u001b[0;34m(self, func, iterable, chunksize)\u001b[0m\n\u001b[1;32m    362\u001b[0m \u001b[38;5;28;01mdef\u001b[39;00m \u001b[38;5;21mmap\u001b[39m(\u001b[38;5;28mself\u001b[39m, func, iterable, chunksize\u001b[38;5;241m=\u001b[39m\u001b[38;5;28;01mNone\u001b[39;00m):\n\u001b[1;32m    363\u001b[0m     \u001b[38;5;124;03m'''\u001b[39;00m\n\u001b[1;32m    364\u001b[0m \u001b[38;5;124;03m    Apply `func` to each element in `iterable`, collecting the results\u001b[39;00m\n\u001b[1;32m    365\u001b[0m \u001b[38;5;124;03m    in a list that is returned.\u001b[39;00m\n\u001b[1;32m    366\u001b[0m \u001b[38;5;124;03m    '''\u001b[39;00m\n\u001b[0;32m--> 367\u001b[0m     \u001b[38;5;28;01mreturn\u001b[39;00m \u001b[38;5;28;43mself\u001b[39;49m\u001b[38;5;241;43m.\u001b[39;49m\u001b[43m_map_async\u001b[49m\u001b[43m(\u001b[49m\u001b[43mfunc\u001b[49m\u001b[43m,\u001b[49m\u001b[43m \u001b[49m\u001b[43miterable\u001b[49m\u001b[43m,\u001b[49m\u001b[43m \u001b[49m\u001b[43mmapstar\u001b[49m\u001b[43m,\u001b[49m\u001b[43m \u001b[49m\u001b[43mchunksize\u001b[49m\u001b[43m)\u001b[49m\u001b[38;5;241;43m.\u001b[39;49m\u001b[43mget\u001b[49m\u001b[43m(\u001b[49m\u001b[43m)\u001b[49m\n",
      "File \u001b[0;32m~/anaconda3/envs/comunidade_env/lib/python3.10/multiprocessing/pool.py:774\u001b[0m, in \u001b[0;36mApplyResult.get\u001b[0;34m(self, timeout)\u001b[0m\n\u001b[1;32m    772\u001b[0m     \u001b[38;5;28;01mreturn\u001b[39;00m \u001b[38;5;28mself\u001b[39m\u001b[38;5;241m.\u001b[39m_value\n\u001b[1;32m    773\u001b[0m \u001b[38;5;28;01melse\u001b[39;00m:\n\u001b[0;32m--> 774\u001b[0m     \u001b[38;5;28;01mraise\u001b[39;00m \u001b[38;5;28mself\u001b[39m\u001b[38;5;241m.\u001b[39m_value\n",
      "\u001b[0;31mTypeError\u001b[0m: tuple indices must be integers or slices, not str"
     ]
    }
   ],
   "source": [
    "# Criando o dataframe com os dados\n",
    "\n",
    "new_df = df[['id', 'location']].head()\n",
    "\n",
    "\n",
    "new_df[['place_id', 'osm_type', 'country', 'country_code']] = workers.map(df_constructor.get_data, new_df.iterrows())\n"
   ]
  },
  {
   "cell_type": "code",
   "execution_count": null,
   "id": "c9ce6faf",
   "metadata": {},
   "outputs": [],
   "source": []
  },
  {
   "cell_type": "markdown",
   "id": "eae83604",
   "metadata": {},
   "source": [
    "## 4. Adicione os seguinte filtros no Mapa:\n",
    "- **Tamanho mínimo da área da sala de estar.**\n",
    "- **Número mínimo de banheiros.**\n",
    "- **Valor Máximo do Preço.**\n",
    "- **Tamanho máximo da área do porão.**\n",
    "- **Filtro das Condições do Imóvel.**\n",
    "- **Filtro por Ano de Construção.**\n"
   ]
  },
  {
   "cell_type": "code",
   "execution_count": 54,
   "id": "7019d41b",
   "metadata": {},
   "outputs": [],
   "source": [
    "style = {'description_width': 'initial'}"
   ]
  },
  {
   "cell_type": "code",
   "execution_count": 55,
   "id": "8212dc95",
   "metadata": {},
   "outputs": [
    {
     "data": {
      "text/plain": [
       "array([1.  , 2.25, 3.  , 2.  , 4.5 , 1.5 , 2.5 , 1.75, 2.75, 3.25, 4.  ,\n",
       "       3.5 , 0.75, 4.75, 5.  , 4.25, 3.75, 0.  , 1.25, 5.25, 6.  , 0.5 ,\n",
       "       5.5 , 6.75, 5.75, 8.  , 7.5 , 7.75, 6.25, 6.5 ])"
      ]
     },
     "execution_count": 55,
     "metadata": {},
     "output_type": "execute_result"
    }
   ],
   "source": [
    "df['bathrooms'].unique()"
   ]
  },
  {
   "cell_type": "code",
   "execution_count": 56,
   "id": "aed053f3",
   "metadata": {},
   "outputs": [],
   "source": [
    "# Botões iterativos \n",
    "# Para mais botões visitar o site do ipywidgets\n",
    "\n",
    "# Tamanho da sala de estar\n",
    "\n",
    "living_room_min = widgets.IntSlider(\n",
    "    value = 2079,\n",
    "    min = 290,\n",
    "    max = 13540,\n",
    "    step = 1,\n",
    "    description = 'Tamanho da sala de estar',\n",
    "    disable = False,\n",
    "    style = style)\n",
    "\n",
    "# Número máximo de banheiros\n",
    "\n",
    "bathrooms_numbers = widgets.Dropdown(\n",
    "    options= [1.  , 2.25, 3.  , 2.  , 4.5 , 1.5 , 2.5 , 1.75, 2.75, 3.25, 4.  ,\n",
    "       3.5 , 0.75, 4.75, 5.  , 4.25, 3.75, 0.  , 1.25, 5.25, 6.  , 0.5 ,\n",
    "       5.5 , 6.75, 5.75, 8.  , 7.5 , 7.75, 6.25, 6.5 ],\n",
    "    value= 2,\n",
    "    description='Número máximo de banheiros:',\n",
    "    disabled=False,\n",
    "    style = style\n",
    ")\n",
    "\n",
    "# Preço Máximo\n",
    "\n",
    "max_price = widgets.IntSlider(\n",
    "    value = 540088,\n",
    "    min = 75000,\n",
    "    max = 7700000,\n",
    "    step = 1,\n",
    "    description = 'Preço máximo',\n",
    "    disable = False,\n",
    "    style = style)\n",
    "\n",
    "# Tamanho máximo do porão\n",
    "\n",
    "max_sqft_basement = widgets.IntSlider(\n",
    "    value = 291,\n",
    "    min = 0,\n",
    "    max = 4820,\n",
    "    step = 1,\n",
    "    description = 'Tamanho máximo do porão',\n",
    "    disable = False,\n",
    "    style = style)\n",
    "\n",
    "# Condição do imóvel\n",
    "\n",
    "house_condition = widgets.Dropdown(\n",
    "    options= [3, 5, 4, 1, 2],\n",
    "    value= 2,\n",
    "    description='Condição do imóvel:',\n",
    "    disabled=False,\n",
    "    style = style\n",
    ")\n",
    "\n",
    "# Ano de construção\n",
    "\n",
    "btn_yr_built = widgets.IntSlider(\n",
    "    value = 1971,\n",
    "    min = 1900,\n",
    "    max = 2015,\n",
    "    step = 1,\n",
    "    description = 'Ano de construção',\n",
    "    disable = False,\n",
    "    style = style\n",
    "    )\n"
   ]
  },
  {
   "cell_type": "code",
   "execution_count": 57,
   "id": "ee7c021f",
   "metadata": {},
   "outputs": [],
   "source": [
    "# Criação do Mapa\n",
    "\n",
    "def update_map(df, lrm, bn, mp, msb, hc, byb):\n",
    "    \n",
    "    filtro = df[(df['sqft_living'] <= lrm) \n",
    "               & (df['bathrooms'] == bn)\n",
    "               & (df['price'] == mp)\n",
    "               & (df['sqft_basement'] == msb)\n",
    "               & (df['condition'] == hc)\n",
    "               & (df['yr_built'] == byb)\n",
    "    ][['id', 'lat', 'long', 'level_price', 'size', 'price', \n",
    "       'bathrooms', 'sqft_basement', 'yr_built', 'condition', 'sqft_living']]\n",
    "    mapa = px.scatter_mapbox(filtro, \n",
    "                      lat='lat', \n",
    "                      lon='long',\n",
    "                      hover_name='id',\n",
    "                      size='level_price',\n",
    "                      color='size',\n",
    "                      hover_data=['price'],\n",
    "                      color_discrete_sequence=['grey'],\n",
    "                      size_max=15,\n",
    "                      zoom=10,\n",
    "                     )\n",
    "    mapa.update_layout(mapbox_style='open-street-map')\n",
    "    mapa.update_layout(height=600, margin={'r':0, 't':0, 'l':0, 'b':0})\n",
    "    mapa.show();"
   ]
  },
  {
   "cell_type": "code",
   "execution_count": 58,
   "id": "e9f7ed67",
   "metadata": {},
   "outputs": [
    {
     "data": {
      "application/vnd.jupyter.widget-view+json": {
       "model_id": "5f58c63dce5d4e069647ec10fc83e7bc",
       "version_major": 2,
       "version_minor": 0
      },
      "text/plain": [
       "interactive(children=(IntSlider(value=2079, description='Tamanho da sala de estar', max=13540, min=290, style=…"
      ]
     },
     "metadata": {},
     "output_type": "display_data"
    }
   ],
   "source": [
    "wg.interactive(update_map, df=wg.fixed(df), lrm=living_room_min, bn=bathrooms_numbers, mp=max_price, msb=max_sqft_basement, hc=house_condition, byb=btn_yr_built)"
   ]
  },
  {
   "cell_type": "markdown",
   "id": "6384248f",
   "metadata": {},
   "source": [
    "## 5. Adicione os seguinte filtros no Dashboard:\n",
    "- **Filtro por data disponível para compra.**\n",
    "- **Filtro por ano de renovação.**\n",
    "- **Filtro se possui vista para a água ou não.**"
   ]
  },
  {
   "cell_type": "code",
   "execution_count": null,
   "id": "78d22452",
   "metadata": {},
   "outputs": [],
   "source": []
  }
 ],
 "metadata": {
  "kernelspec": {
   "display_name": "Python 3 (ipykernel)",
   "language": "python",
   "name": "python3"
  },
  "language_info": {
   "codemirror_mode": {
    "name": "ipython",
    "version": 3
   },
   "file_extension": ".py",
   "mimetype": "text/x-python",
   "name": "python",
   "nbconvert_exporter": "python",
   "pygments_lexer": "ipython3",
   "version": "3.10.6"
  }
 },
 "nbformat": 4,
 "nbformat_minor": 5
}
