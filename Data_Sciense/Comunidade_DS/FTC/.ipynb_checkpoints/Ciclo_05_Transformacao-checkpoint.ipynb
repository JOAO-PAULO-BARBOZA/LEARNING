{
 "cells": [
  {
   "cell_type": "markdown",
   "id": "af2b7013",
   "metadata": {},
   "source": [
    "## Needed importations"
   ]
  },
  {
   "cell_type": "code",
   "execution_count": 45,
   "id": "786038f8",
   "metadata": {},
   "outputs": [],
   "source": [
    "import pandas as pd\n",
    "import plotly.express as px"
   ]
  },
  {
   "cell_type": "code",
   "execution_count": 46,
   "id": "e313336c",
   "metadata": {},
   "outputs": [],
   "source": [
    "# Data uploading\n",
    "\n",
    "df = pd.read_csv('train.csv')"
   ]
  },
  {
   "cell_type": "markdown",
   "id": "8849a312",
   "metadata": {},
   "source": [
    "## 1. Converting the column Age from text to number"
   ]
  },
  {
   "cell_type": "code",
   "execution_count": 47,
   "id": "05ac534a",
   "metadata": {},
   "outputs": [],
   "source": [
    "df = df[df['Delivery_person_Age'] != 'NaN ']"
   ]
  },
  {
   "cell_type": "code",
   "execution_count": 48,
   "id": "64dd23e0",
   "metadata": {},
   "outputs": [],
   "source": [
    "df['Delivery_person_Age'] = df['Delivery_person_Age'].astype(int)\n"
   ]
  },
  {
   "cell_type": "markdown",
   "id": "dc2b976d",
   "metadata": {},
   "source": [
    "## 2. Converting the column Ratings from text to float"
   ]
  },
  {
   "cell_type": "code",
   "execution_count": 49,
   "id": "362a13cc",
   "metadata": {},
   "outputs": [],
   "source": [
    "df['Delivery_person_Ratings'] = df['Delivery_person_Ratings'].astype(float)"
   ]
  },
  {
   "cell_type": "markdown",
   "id": "1975fa7f",
   "metadata": {},
   "source": [
    "## 3. Converting the column order_date from text to date"
   ]
  },
  {
   "cell_type": "code",
   "execution_count": 50,
   "id": "7e289db1",
   "metadata": {},
   "outputs": [],
   "source": [
    "df['Order_Date'] = pd.to_datetime(df['Order_Date'], format=\"%d-%m-%Y\")"
   ]
  },
  {
   "cell_type": "markdown",
   "id": "7e384cf3",
   "metadata": {},
   "source": [
    "## 4. Converting the column multiple_deliveries from text to number(int)"
   ]
  },
  {
   "cell_type": "code",
   "execution_count": 51,
   "id": "04fb4205",
   "metadata": {},
   "outputs": [],
   "source": [
    "df = df[df['multiple_deliveries'] != 'NaN ']"
   ]
  },
  {
   "cell_type": "code",
   "execution_count": 52,
   "id": "479094f8",
   "metadata": {},
   "outputs": [],
   "source": [
    "df['multiple_deliveries'] = df['multiple_deliveries'].astype(int)"
   ]
  },
  {
   "cell_type": "markdown",
   "id": "e0f250a8",
   "metadata": {},
   "source": [
    "## 5. Removing the empty spaces into the strings/text/object"
   ]
  },
  {
   "cell_type": "code",
   "execution_count": 53,
   "id": "19476fd9",
   "metadata": {},
   "outputs": [],
   "source": [
    "df['ID'] = df['ID'].str.strip() # It's needed to call the method 'str' before the 'strip'"
   ]
  },
  {
   "cell_type": "code",
   "execution_count": 54,
   "id": "a0ba0412",
   "metadata": {},
   "outputs": [],
   "source": [
    "df['Road_traffic_density'] = df['Road_traffic_density'].str.strip()"
   ]
  },
  {
   "cell_type": "code",
   "execution_count": 55,
   "id": "e0de7b1f",
   "metadata": {},
   "outputs": [],
   "source": [
    "df['Type_of_order'] = df['Type_of_order'].str.strip()"
   ]
  },
  {
   "cell_type": "code",
   "execution_count": 56,
   "id": "095b61d7",
   "metadata": {},
   "outputs": [],
   "source": [
    "df['Type_of_vehicle'] = df['Type_of_vehicle'].str.strip()"
   ]
  },
  {
   "cell_type": "code",
   "execution_count": 57,
   "id": "a833e1ea",
   "metadata": {},
   "outputs": [],
   "source": [
    "df['City'] = df['City'].str.strip()"
   ]
  },
  {
   "cell_type": "markdown",
   "id": "bba472f6",
   "metadata": {},
   "source": [
    "> ## Quantidade de pedidos por dia."
   ]
  },
  {
   "cell_type": "code",
   "execution_count": null,
   "id": "b5ad8fe4",
   "metadata": {},
   "outputs": [],
   "source": [
    "df_aux = df['ID', 'Order_date']"
   ]
  },
  {
   "cell_type": "code",
   "execution_count": null,
   "id": "5f6ee18c",
   "metadata": {
    "collapsed": true
   },
   "outputs": [],
   "source": []
  }
 ],
 "metadata": {
  "kernelspec": {
   "display_name": "Python 3 (ipykernel)",
   "language": "python",
   "name": "python3"
  },
  "language_info": {
   "codemirror_mode": {
    "name": "ipython",
    "version": 3
   },
   "file_extension": ".py",
   "mimetype": "text/x-python",
   "name": "python",
   "nbconvert_exporter": "python",
   "pygments_lexer": "ipython3",
   "version": "3.10.6"
  }
 },
 "nbformat": 4,
 "nbformat_minor": 5
}
