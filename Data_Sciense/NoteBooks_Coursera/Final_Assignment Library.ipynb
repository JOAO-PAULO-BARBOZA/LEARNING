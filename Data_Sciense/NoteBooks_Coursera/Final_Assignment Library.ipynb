{
 "cells": [
  {
   "cell_type": "markdown",
   "metadata": {},
   "source": [
    "<center>\n",
    "    <img src=\"https://s3-api.us-geo.objectstorage.softlayer.net/cf-courses-data/CognitiveClass/Logos/organization_logo/organization_logo.png\" width=\"300\" alt=\"cognitiveclass.ai logo\"  />\n",
    "</center>\n"
   ]
  },
  {
   "cell_type": "markdown",
   "metadata": {},
   "source": [
    "<h1>Extracting Stock Data Using a Python Library</h1>\n"
   ]
  },
  {
   "cell_type": "markdown",
   "metadata": {},
   "source": [
    "A company's stock share is a piece of the company more precisely:\n",
    "\n",
    "<p><b>A stock (also known as equity) is a security that represents the ownership of a fraction of a corporation. This\n",
    "entitles the owner of the stock to a proportion of the corporation's assets and profits equal to how much stock they own. Units of stock are called \"shares.\" [1]</p></b>\n",
    "\n",
    "An investor can buy a stock and sell it later. If the stock price increases, the investor profits, If it decreases,the investor with incur a loss.  Determining the stock price is complex; it depends on the number of outstanding shares, the size of the company's future profits, and much more. People trade stocks throughout the day the stock ticker is a report of the price of a certain stock, updated continuously throughout the trading session by the various stock market exchanges.\n",
    "\n",
    "<p>You are a data scientist working for a hedge fund; it's your job to determine any suspicious stock activity. In this lab you will extract stock data using a Python library. We will use the <coode>yfinance</code> library, it allows us to extract data for stocks returning data in a pandas dataframe. You will use the lab to extract.</p>\n"
   ]
  },
  {
   "cell_type": "markdown",
   "metadata": {},
   "source": [
    "<h2>Table of Contents</h2>\n",
    "<div class=\"alert alert-block alert-info\" style=\"margin-top: 20px\">\n",
    "    <ul>\n",
    "        <li>Using yfinance to Extract Stock Info</li>\n",
    "        <li>Using yfinance to Extract Historical Share Price Data</li>\n",
    "        <li>Using yfinance to Extract Historical Dividends Data</li>\n",
    "        <li>Exercise</li>\n",
    "    </ul>\n",
    "<p>\n",
    "    Estimated Time Needed: <strong>30 min</strong></p>\n",
    "</div>\n",
    "\n",
    "<hr>\n"
   ]
  },
  {
   "cell_type": "code",
   "execution_count": 107,
   "metadata": {},
   "outputs": [
    {
     "name": "stdout",
     "output_type": "stream",
     "text": [
      "Requirement already satisfied: yfinance==0.1.67 in /home/j-paulo/anaconda3/lib/python3.9/site-packages (0.1.67)\n",
      "Requirement already satisfied: lxml>=4.5.1 in /home/j-paulo/anaconda3/lib/python3.9/site-packages (from yfinance==0.1.67) (4.6.4)\n",
      "Requirement already satisfied: multitasking>=0.0.7 in /home/j-paulo/anaconda3/lib/python3.9/site-packages (from yfinance==0.1.67) (0.0.11)\n",
      "Requirement already satisfied: requests>=2.20 in /home/j-paulo/anaconda3/lib/python3.9/site-packages (from yfinance==0.1.67) (2.28.1)\n",
      "Requirement already satisfied: numpy>=1.15 in /home/j-paulo/.local/lib/python3.9/site-packages (from yfinance==0.1.67) (1.22.3)\n",
      "Requirement already satisfied: pandas>=0.24 in /home/j-paulo/.local/lib/python3.9/site-packages (from yfinance==0.1.67) (1.4.2)\n",
      "Requirement already satisfied: python-dateutil>=2.8.1 in /home/j-paulo/.local/lib/python3.9/site-packages (from pandas>=0.24->yfinance==0.1.67) (2.8.2)\n",
      "Requirement already satisfied: pytz>=2020.1 in /home/j-paulo/.local/lib/python3.9/site-packages (from pandas>=0.24->yfinance==0.1.67) (2022.1)\n",
      "Requirement already satisfied: charset-normalizer<3,>=2 in /home/j-paulo/anaconda3/lib/python3.9/site-packages (from requests>=2.20->yfinance==0.1.67) (2.0.4)\n",
      "Requirement already satisfied: certifi>=2017.4.17 in /home/j-paulo/anaconda3/lib/python3.9/site-packages (from requests>=2.20->yfinance==0.1.67) (2021.10.8)\n",
      "Requirement already satisfied: idna<4,>=2.5 in /home/j-paulo/anaconda3/lib/python3.9/site-packages (from requests>=2.20->yfinance==0.1.67) (3.2)\n",
      "Requirement already satisfied: urllib3<1.27,>=1.21.1 in /home/j-paulo/.local/lib/python3.9/site-packages (from requests>=2.20->yfinance==0.1.67) (1.26.11)\n",
      "Requirement already satisfied: six>=1.5 in /home/j-paulo/anaconda3/lib/python3.9/site-packages (from python-dateutil>=2.8.1->pandas>=0.24->yfinance==0.1.67) (1.16.0)\n"
     ]
    }
   ],
   "source": [
    "!pip install yfinance==0.1.67\n",
    "#!pip install pandas==1.3.3"
   ]
  },
  {
   "cell_type": "code",
   "execution_count": 3,
   "metadata": {},
   "outputs": [],
   "source": [
    "import yfinance as yf\n",
    "import pandas as pd"
   ]
  },
  {
   "cell_type": "markdown",
   "metadata": {},
   "source": [
    "## Using the yfinance Library to Extract Stock Data\n"
   ]
  },
  {
   "cell_type": "markdown",
   "metadata": {},
   "source": [
    "Using the `Ticker` module we can create an object that will allow us to access functions to extract data. To do this we need to provide the ticker symbol for the stock, here the company is Apple and the ticker symbol is `AAPL`.\n"
   ]
  },
  {
   "cell_type": "code",
   "execution_count": 183,
   "metadata": {},
   "outputs": [],
   "source": [
    "apple = yf.Ticker(\"AAPL\")"
   ]
  },
  {
   "cell_type": "markdown",
   "metadata": {},
   "source": [
    "Now we can access functions and variables to extract the type of data we need. You can view them and what they represent here [https://aroussi.com/post/python-yahoo-finance](https://aroussi.com/post/python-yahoo-finance?utm_medium=Exinfluencer&utm_source=Exinfluencer&utm_content=000026UJ&utm_term=10006555&utm_id=NA-SkillsNetwork-Channel-SkillsNetworkCoursesIBMDeveloperSkillsNetworkPY0220ENSkillsNetwork23455606-2022-01-01).\n"
   ]
  },
  {
   "cell_type": "markdown",
   "metadata": {},
   "source": [
    "### Stock Info\n"
   ]
  },
  {
   "cell_type": "markdown",
   "metadata": {},
   "source": [
    "Using the attribute  <code>info</code> we can extract information about the stock as a Python dictionary.\n"
   ]
  },
  {
   "cell_type": "code",
   "execution_count": 184,
   "metadata": {},
   "outputs": [
    {
     "data": {
      "text/plain": [
       "{'zip': '95014',\n",
       " 'sector': 'Technology',\n",
       " 'fullTimeEmployees': 154000,\n",
       " 'longBusinessSummary': 'Apple Inc. designs, manufactures, and markets smartphones, personal computers, tablets, wearables, and accessories worldwide. It also sells various related services. In addition, the company offers iPhone, a line of smartphones; Mac, a line of personal computers; iPad, a line of multi-purpose tablets; AirPods Max, an over-ear wireless headphone; and wearables, home, and accessories comprising AirPods, Apple TV, Apple Watch, Beats products, HomePod, and iPod touch. Further, it provides AppleCare support services; cloud services store services; and operates various platforms, including the App Store that allow customers to discover and download applications and digital content, such as books, music, video, games, and podcasts. Additionally, the company offers various services, such as Apple Arcade, a game subscription service; Apple Music, which offers users a curated listening experience with on-demand radio stations; Apple News+, a subscription news and magazine service; Apple TV+, which offers exclusive original content; Apple Card, a co-branded credit card; and Apple Pay, a cashless payment service, as well as licenses its intellectual property. The company serves consumers, and small and mid-sized businesses; and the education, enterprise, and government markets. It distributes third-party applications for its products through the App Store. The company also sells its products through its retail and online stores, and direct sales force; and third-party cellular network carriers, wholesalers, retailers, and resellers. Apple Inc. was incorporated in 1977 and is headquartered in Cupertino, California.',\n",
       " 'city': 'Cupertino',\n",
       " 'phone': '408 996 1010',\n",
       " 'state': 'CA',\n",
       " 'country': 'United States',\n",
       " 'companyOfficers': [],\n",
       " 'website': 'https://www.apple.com',\n",
       " 'maxAge': 1,\n",
       " 'address1': 'One Apple Park Way',\n",
       " 'industry': 'Consumer Electronics',\n",
       " 'ebitdaMargins': 0.3343,\n",
       " 'profitMargins': 0.25709,\n",
       " 'grossMargins': 0.43313998,\n",
       " 'operatingCashflow': 118224003072,\n",
       " 'revenueGrowth': 0.019,\n",
       " 'operatingMargins': 0.30533,\n",
       " 'ebitda': 129556996096,\n",
       " 'targetLowPrice': 136,\n",
       " 'recommendationKey': 'buy',\n",
       " 'grossProfits': 152836000000,\n",
       " 'freeCashflow': 83344621568,\n",
       " 'targetMedianPrice': 185,\n",
       " 'currentPrice': 167.23,\n",
       " 'earningsGrowth': -0.077,\n",
       " 'currentRatio': 0.865,\n",
       " 'returnOnAssets': 0.22204,\n",
       " 'numberOfAnalystOpinions': 44,\n",
       " 'targetMeanPrice': 183.94,\n",
       " 'debtToEquity': 205.984,\n",
       " 'returnOnEquity': 1.62816,\n",
       " 'targetHighPrice': 220,\n",
       " 'totalCash': 48230998016,\n",
       " 'totalDebt': 119691001856,\n",
       " 'totalRevenue': 387541991424,\n",
       " 'totalCashPerShare': 3.001,\n",
       " 'financialCurrency': 'USD',\n",
       " 'revenuePerShare': 23.732,\n",
       " 'quickRatio': 0.697,\n",
       " 'recommendationMean': 1.9,\n",
       " 'exchange': 'NMS',\n",
       " 'shortName': 'Apple Inc.',\n",
       " 'longName': 'Apple Inc.',\n",
       " 'exchangeTimezoneName': 'America/New_York',\n",
       " 'exchangeTimezoneShortName': 'EDT',\n",
       " 'isEsgPopulated': False,\n",
       " 'gmtOffSetMilliseconds': '-14400000',\n",
       " 'quoteType': 'EQUITY',\n",
       " 'symbol': 'AAPL',\n",
       " 'messageBoardId': 'finmb_24937',\n",
       " 'market': 'us_market',\n",
       " 'annualHoldingsTurnover': None,\n",
       " 'enterpriseToRevenue': 7.133,\n",
       " 'beta3Year': None,\n",
       " 'enterpriseToEbitda': 21.338,\n",
       " '52WeekChange': 0.12719059,\n",
       " 'morningStarRiskRating': None,\n",
       " 'forwardEps': 6.44,\n",
       " 'revenueQuarterlyGrowth': None,\n",
       " 'sharesOutstanding': 16070800384,\n",
       " 'fundInceptionDate': None,\n",
       " 'annualReportExpenseRatio': None,\n",
       " 'totalAssets': None,\n",
       " 'bookValue': 3.61,\n",
       " 'sharesShort': 107535584,\n",
       " 'sharesPercentSharesOut': 0.0067000003,\n",
       " 'fundFamily': None,\n",
       " 'lastFiscalYearEnd': 1632528000,\n",
       " 'heldPercentInstitutions': 0.59714,\n",
       " 'netIncomeToCommon': 99632996352,\n",
       " 'trailingEps': 6.05,\n",
       " 'lastDividendValue': 0.23,\n",
       " 'SandP52WeekChange': -0.0776242,\n",
       " 'priceToBook': 46.3241,\n",
       " 'heldPercentInsiders': 0.0007,\n",
       " 'nextFiscalYearEnd': 1695600000,\n",
       " 'yield': None,\n",
       " 'mostRecentQuarter': 1656115200,\n",
       " 'shortRatio': 1.47,\n",
       " 'sharesShortPreviousMonthDate': 1656547200,\n",
       " 'floatShares': 16053395588,\n",
       " 'beta': 1.230174,\n",
       " 'enterpriseValue': 2764435881984,\n",
       " 'priceHint': 2,\n",
       " 'threeYearAverageReturn': None,\n",
       " 'lastSplitDate': 1598832000,\n",
       " 'lastSplitFactor': '4:1',\n",
       " 'legalType': None,\n",
       " 'lastDividendDate': 1659657600,\n",
       " 'morningStarOverallRating': None,\n",
       " 'earningsQuarterlyGrowth': -0.106,\n",
       " 'priceToSalesTrailing12Months': 6.934784,\n",
       " 'dateShortInterest': 1659052800,\n",
       " 'pegRatio': 2.9,\n",
       " 'ytdReturn': None,\n",
       " 'forwardPE': 25.96739,\n",
       " 'lastCapGain': None,\n",
       " 'shortPercentOfFloat': 0.0067000003,\n",
       " 'sharesShortPriorMonth': 112994371,\n",
       " 'impliedSharesOutstanding': 0,\n",
       " 'category': None,\n",
       " 'fiveYearAverageReturn': None,\n",
       " 'previousClose': 167.57,\n",
       " 'regularMarketOpen': 167.08,\n",
       " 'twoHundredDayAverage': 160.62276,\n",
       " 'trailingAnnualDividendYield': 0.005311213,\n",
       " 'payoutRatio': 0.1471,\n",
       " 'volume24Hr': None,\n",
       " 'regularMarketDayHigh': 168.7011,\n",
       " 'navPrice': None,\n",
       " 'averageDailyVolume10Day': 64089670,\n",
       " 'regularMarketPreviousClose': 167.57,\n",
       " 'fiftyDayAverage': 152.4194,\n",
       " 'trailingAnnualDividendRate': 0.89,\n",
       " 'open': 167.08,\n",
       " 'toCurrency': None,\n",
       " 'averageVolume10days': 64089670,\n",
       " 'expireDate': None,\n",
       " 'algorithm': None,\n",
       " 'dividendRate': 0.92,\n",
       " 'exDividendDate': 1659657600,\n",
       " 'circulatingSupply': None,\n",
       " 'startDate': None,\n",
       " 'regularMarketDayLow': 166.65,\n",
       " 'currency': 'USD',\n",
       " 'trailingPE': 27.641321,\n",
       " 'regularMarketVolume': 54147079,\n",
       " 'lastMarket': None,\n",
       " 'maxSupply': None,\n",
       " 'openInterest': None,\n",
       " 'marketCap': 2687519948800,\n",
       " 'volumeAllCurrencies': None,\n",
       " 'strikePrice': None,\n",
       " 'averageVolume': 75170682,\n",
       " 'dayLow': 166.65,\n",
       " 'ask': 167.15,\n",
       " 'askSize': 1100,\n",
       " 'volume': 54147079,\n",
       " 'fiftyTwoWeekHigh': 182.94,\n",
       " 'fromCurrency': None,\n",
       " 'fiveYearAvgDividendYield': 1.05,\n",
       " 'fiftyTwoWeekLow': 129.04,\n",
       " 'bid': 167.08,\n",
       " 'tradeable': False,\n",
       " 'dividendYield': 0.0055,\n",
       " 'bidSize': 1200,\n",
       " 'dayHigh': 168.7011,\n",
       " 'coinMarketCapLink': None,\n",
       " 'regularMarketPrice': 167.23,\n",
       " 'preMarketPrice': 167.05,\n",
       " 'logo_url': 'https://logo.clearbit.com/apple.com'}"
      ]
     },
     "execution_count": 184,
     "metadata": {},
     "output_type": "execute_result"
    }
   ],
   "source": [
    "apple_info=apple.info\n",
    "apple_info"
   ]
  },
  {
   "cell_type": "markdown",
   "metadata": {},
   "source": [
    "We can get the <code>'country'</code> using the key country\n"
   ]
  },
  {
   "cell_type": "code",
   "execution_count": 185,
   "metadata": {},
   "outputs": [
    {
     "data": {
      "text/plain": [
       "'United States'"
      ]
     },
     "execution_count": 185,
     "metadata": {},
     "output_type": "execute_result"
    }
   ],
   "source": [
    "apple_info['country']"
   ]
  },
  {
   "cell_type": "markdown",
   "metadata": {},
   "source": [
    "### Extracting Share Price\n"
   ]
  },
  {
   "cell_type": "markdown",
   "metadata": {},
   "source": [
    "A share is the single smallest part of a company's stock  that you can buy, the prices of these shares fluctuate over time. Using the <code>history()</code> method we can get the share price of the stock over a certain period of time. Using the `period` parameter we can set how far back from the present to get data. The options for `period` are 1 day (1d), 5d, 1 month (1mo) , 3mo, 6mo, 1 year (1y), 2y, 5y, 10y, ytd, and max.\n"
   ]
  },
  {
   "cell_type": "code",
   "execution_count": 186,
   "metadata": {},
   "outputs": [],
   "source": [
    "apple_date = apple.history('10y')"
   ]
  },
  {
   "cell_type": "markdown",
   "metadata": {},
   "source": [
    "The format that the data is returned in is a Pandas DataFrame. With the `Date` as the index the share `Open`, `High`, `Low`, `Close`, `Volume`, and `Stock Splits` are given for each day.\n"
   ]
  },
  {
   "cell_type": "code",
   "execution_count": 187,
   "metadata": {},
   "outputs": [
    {
     "name": "stdout",
     "output_type": "stream",
     "text": [
      "<class 'pandas.core.frame.DataFrame'>\n",
      "437340400.0\n"
     ]
    },
    {
     "data": {
      "text/html": [
       "<div>\n",
       "<style scoped>\n",
       "    .dataframe tbody tr th:only-of-type {\n",
       "        vertical-align: middle;\n",
       "    }\n",
       "\n",
       "    .dataframe tbody tr th {\n",
       "        vertical-align: top;\n",
       "    }\n",
       "\n",
       "    .dataframe thead th {\n",
       "        text-align: right;\n",
       "    }\n",
       "</style>\n",
       "<table border=\"1\" class=\"dataframe\">\n",
       "  <thead>\n",
       "    <tr style=\"text-align: right;\">\n",
       "      <th></th>\n",
       "      <th>Open</th>\n",
       "      <th>High</th>\n",
       "      <th>Low</th>\n",
       "      <th>Close</th>\n",
       "      <th>Volume</th>\n",
       "      <th>Dividends</th>\n",
       "      <th>Stock Splits</th>\n",
       "    </tr>\n",
       "    <tr>\n",
       "      <th>Date</th>\n",
       "      <th></th>\n",
       "      <th></th>\n",
       "      <th></th>\n",
       "      <th></th>\n",
       "      <th></th>\n",
       "      <th></th>\n",
       "      <th></th>\n",
       "    </tr>\n",
       "  </thead>\n",
       "  <tbody>\n",
       "    <tr>\n",
       "      <th>2012-08-24</th>\n",
       "      <td>20.197442</td>\n",
       "      <td>20.502772</td>\n",
       "      <td>20.076168</td>\n",
       "      <td>20.311060</td>\n",
       "      <td>437340400</td>\n",
       "      <td>0.0</td>\n",
       "      <td>0.0</td>\n",
       "    </tr>\n",
       "    <tr>\n",
       "      <th>2012-08-27</th>\n",
       "      <td>20.824638</td>\n",
       "      <td>20.851588</td>\n",
       "      <td>20.627108</td>\n",
       "      <td>20.692646</td>\n",
       "      <td>427008400</td>\n",
       "      <td>0.0</td>\n",
       "      <td>0.0</td>\n",
       "    </tr>\n",
       "    <tr>\n",
       "      <th>2012-08-28</th>\n",
       "      <td>20.671213</td>\n",
       "      <td>20.705513</td>\n",
       "      <td>20.539219</td>\n",
       "      <td>20.665701</td>\n",
       "      <td>267416800</td>\n",
       "      <td>0.0</td>\n",
       "      <td>0.0</td>\n",
       "    </tr>\n",
       "    <tr>\n",
       "      <th>2012-08-29</th>\n",
       "      <td>20.679482</td>\n",
       "      <td>20.753594</td>\n",
       "      <td>20.598326</td>\n",
       "      <td>20.624969</td>\n",
       "      <td>202806800</td>\n",
       "      <td>0.0</td>\n",
       "      <td>0.0</td>\n",
       "    </tr>\n",
       "    <tr>\n",
       "      <th>2012-08-30</th>\n",
       "      <td>20.538301</td>\n",
       "      <td>20.566169</td>\n",
       "      <td>20.299732</td>\n",
       "      <td>20.330969</td>\n",
       "      <td>302699600</td>\n",
       "      <td>0.0</td>\n",
       "      <td>0.0</td>\n",
       "    </tr>\n",
       "  </tbody>\n",
       "</table>\n",
       "</div>"
      ],
      "text/plain": [
       "                 Open       High        Low      Close     Volume  Dividends  \\\n",
       "Date                                                                           \n",
       "2012-08-24  20.197442  20.502772  20.076168  20.311060  437340400        0.0   \n",
       "2012-08-27  20.824638  20.851588  20.627108  20.692646  427008400        0.0   \n",
       "2012-08-28  20.671213  20.705513  20.539219  20.665701  267416800        0.0   \n",
       "2012-08-29  20.679482  20.753594  20.598326  20.624969  202806800        0.0   \n",
       "2012-08-30  20.538301  20.566169  20.299732  20.330969  302699600        0.0   \n",
       "\n",
       "            Stock Splits  \n",
       "Date                      \n",
       "2012-08-24           0.0  \n",
       "2012-08-27           0.0  \n",
       "2012-08-28           0.0  \n",
       "2012-08-29           0.0  \n",
       "2012-08-30           0.0  "
      ]
     },
     "execution_count": 187,
     "metadata": {},
     "output_type": "execute_result"
    }
   ],
   "source": [
    "print(type(apple_date))\n",
    "print(apple_date.iloc[0][\"Volume\"])\n",
    "apple_date.head()\n"
   ]
  },
  {
   "cell_type": "markdown",
   "metadata": {},
   "source": [
    "We can reset the index of the DataFrame with the `reset_index` function. We also set the `inplace` paramter to `True` so the change takes place to the DataFrame itself.\n"
   ]
  },
  {
   "cell_type": "code",
   "execution_count": 189,
   "metadata": {},
   "outputs": [],
   "source": [
    "apple_date.reset_index(inplace=True)"
   ]
  },
  {
   "cell_type": "markdown",
   "metadata": {},
   "source": [
    "We can plot the `Open` price against the `Date`:\n"
   ]
  },
  {
   "cell_type": "code",
   "execution_count": 191,
   "metadata": {},
   "outputs": [
    {
     "data": {
      "text/plain": [
       "<AxesSubplot:xlabel='Date'>"
      ]
     },
     "execution_count": 191,
     "metadata": {},
     "output_type": "execute_result"
    },
    {
     "data": {
      "image/png": "[encoded data removed]",
      "text/plain": [
       "<Figure size 432x288 with 1 Axes>"
      ]
     },
     "metadata": {
      "needs_background": "light"
     },
     "output_type": "display_data"
    }
   ],
   "source": [
    "apple_date.plot(x=\"Date\", y=\"Open\")"
   ]
  },
  {
   "cell_type": "markdown",
   "metadata": {},
   "source": [
    "### Extracting Dividends\n"
   ]
  },
  {
   "cell_type": "markdown",
   "metadata": {},
   "source": [
    "Dividends are the distribution of a companys profits to shareholders. In this case they are defined as an amount of money returned per share an investor owns. Using the variable `dividends` we can get a dataframe of the data. The period of the data is given by the period defined in the 'history\\` function.\n"
   ]
  },
  {
   "cell_type": "code",
   "execution_count": 194,
   "metadata": {},
   "outputs": [
    {
     "data": {
      "text/plain": [
       "Date\n",
       "2012-11-07    0.094643\n",
       "2013-02-07    0.094643\n",
       "2013-05-09    0.108929\n",
       "2013-08-08    0.108929\n",
       "2013-11-06    0.108929\n",
       "2014-02-06    0.108929\n",
       "2014-05-08    0.117500\n",
       "2014-08-07    0.117500\n",
       "2014-11-06    0.117500\n",
       "2015-02-05    0.117500\n",
       "2015-05-07    0.130000\n",
       "2015-08-06    0.130000\n",
       "2015-11-05    0.130000\n",
       "2016-02-04    0.130000\n",
       "2016-05-05    0.142500\n",
       "2016-08-04    0.142500\n",
       "2016-11-03    0.142500\n",
       "2017-02-09    0.142500\n",
       "2017-05-11    0.157500\n",
       "2017-08-10    0.157500\n",
       "2017-11-10    0.157500\n",
       "2018-02-09    0.157500\n",
       "2018-05-11    0.182500\n",
       "2018-08-10    0.182500\n",
       "2018-11-08    0.182500\n",
       "2019-02-08    0.182500\n",
       "2019-05-10    0.192500\n",
       "2019-08-09    0.192500\n",
       "2019-11-07    0.192500\n",
       "2020-02-07    0.192500\n",
       "2020-05-08    0.205000\n",
       "2020-08-07    0.205000\n",
       "2020-11-06    0.205000\n",
       "2021-02-05    0.205000\n",
       "2021-05-07    0.220000\n",
       "2021-08-06    0.220000\n",
       "2021-11-05    0.220000\n",
       "2022-02-04    0.220000\n",
       "2022-05-06    0.230000\n",
       "2022-08-05    0.230000\n",
       "Name: Dividends, dtype: float64"
      ]
     },
     "execution_count": 194,
     "metadata": {},
     "output_type": "execute_result"
    }
   ],
   "source": [
    "apple.dividends"
   ]
  },
  {
   "cell_type": "markdown",
   "metadata": {},
   "source": [
    "We can plot the dividends overtime:\n"
   ]
  },
  {
   "cell_type": "code",
   "execution_count": 195,
   "metadata": {},
   "outputs": [
    {
     "data": {
      "text/plain": [
       "<AxesSubplot:xlabel='Date'>"
      ]
     },
     "execution_count": 195,
     "metadata": {},
     "output_type": "execute_result"
    },
    {
     "data": {
      "image/png": "[encoded data removed]",
      "text/plain": [
       "<Figure size 432x288 with 1 Axes>"
      ]
     },
     "metadata": {
      "needs_background": "light"
     },
     "output_type": "display_data"
    }
   ],
   "source": [
    "apple.dividends.plot()"
   ]
  },
  {
   "cell_type": "markdown",
   "metadata": {},
   "source": [
    "## Exercise\n"
   ]
  },
  {
   "cell_type": "markdown",
   "metadata": {},
   "source": [
    "Now using the `Ticker` module create an object for AMD (Advanced Micro Devices) with the ticker symbol is `AMD` called; name the object <code>amd</code>.\n"
   ]
  },
  {
   "cell_type": "code",
   "execution_count": 6,
   "metadata": {},
   "outputs": [],
   "source": [
    "amd = yf.Ticker(\"AMD\")"
   ]
  },
  {
   "cell_type": "markdown",
   "metadata": {},
   "source": [
    "<b>Question 1</b> Use the key  <code>'country'</code> to find the country the stock belongs to, remember it as it will be a quiz question.\n"
   ]
  },
  {
   "cell_type": "code",
   "execution_count": 197,
   "metadata": {},
   "outputs": [
    {
     "data": {
      "text/plain": [
       "'United States'"
      ]
     },
     "execution_count": 197,
     "metadata": {},
     "output_type": "execute_result"
    }
   ],
   "source": [
    "amd.info[\"country\"]"
   ]
  },
  {
   "cell_type": "markdown",
   "metadata": {},
   "source": [
    "<b>Question 2</b> Use the key  <code>'sector'</code> to find the sector the stock belongs to, remember it as it will be a quiz question.\n"
   ]
  },
  {
   "cell_type": "code",
   "execution_count": 198,
   "metadata": {},
   "outputs": [
    {
     "data": {
      "text/plain": [
       "'Technology'"
      ]
     },
     "execution_count": 198,
     "metadata": {},
     "output_type": "execute_result"
    }
   ],
   "source": [
    "amd.info['sector']"
   ]
  },
  {
   "cell_type": "markdown",
   "metadata": {},
   "source": [
    "<b>Question 3</b> Obtain stock data for AMD using the `history` function, set the `period` to max. Find the `Volume` traded on the first day (first row).\n"
   ]
  },
  {
   "cell_type": "code",
   "execution_count": 1,
   "metadata": {},
   "outputs": [
    {
     "ename": "NameError",
     "evalue": "name 'amd' is not defined",
     "output_type": "error",
     "traceback": [
      "\u001b[0;31m---------------------------------------------------------------------------\u001b[0m",
      "\u001b[0;31mNameError\u001b[0m                                 Traceback (most recent call last)",
      "\u001b[0;32m/tmp/ipykernel_24275/3253276698.py\u001b[0m in \u001b[0;36m<module>\u001b[0;34m\u001b[0m\n\u001b[0;32m----> 1\u001b[0;31m \u001b[0mprint\u001b[0m\u001b[0;34m(\u001b[0m\u001b[0mtype\u001b[0m\u001b[0;34m(\u001b[0m\u001b[0mamd\u001b[0m\u001b[0;34m)\u001b[0m\u001b[0;34m)\u001b[0m\u001b[0;34m\u001b[0m\u001b[0;34m\u001b[0m\u001b[0m\n\u001b[0m\u001b[1;32m      2\u001b[0m \u001b[0mamd_date\u001b[0m \u001b[0;34m=\u001b[0m \u001b[0mamd\u001b[0m\u001b[0;34m.\u001b[0m\u001b[0mhistory\u001b[0m\u001b[0;34m(\u001b[0m\u001b[0mperiod\u001b[0m\u001b[0;34m=\u001b[0m\u001b[0;34m'max'\u001b[0m\u001b[0;34m)\u001b[0m\u001b[0;34m\u001b[0m\u001b[0;34m\u001b[0m\u001b[0m\n\u001b[1;32m      3\u001b[0m \u001b[0;34m\u001b[0m\u001b[0m\n\u001b[1;32m      4\u001b[0m \u001b[0;31m#amd.iloc[0][\"Volume\"]\u001b[0m\u001b[0;34m\u001b[0m\u001b[0;34m\u001b[0m\u001b[0m\n",
      "\u001b[0;31mNameError\u001b[0m: name 'amd' is not defined"
     ]
    }
   ],
   "source": [
    "print(type(amd))\n",
    "amd_date = amd.history(period='max')\n",
    "\n",
    "#amd.iloc[0][\"Volume\"]"
   ]
  },
  {
   "cell_type": "markdown",
   "metadata": {},
   "source": [
    "<h2>About the Authors:</h2> \n",
    "\n",
    "<a href=\"https://www.linkedin.com/in/joseph-s-50398b136/?utm_medium=Exinfluencer&utm_source=Exinfluencer&utm_content=000026UJ&utm_term=10006555&utm_id=NA-SkillsNetwork-Channel-SkillsNetworkCoursesIBMDeveloperSkillsNetworkPY0220ENSkillsNetwork23455606-2022-01-01\">Joseph Santarcangelo</a> has a PhD in Electrical Engineering, his research focused on using machine learning, signal processing, and computer vision to determine how videos impact human cognition. Joseph has been working for IBM since he completed his PhD.\n",
    "\n",
    "Azim Hirjani\n"
   ]
  },
  {
   "cell_type": "markdown",
   "metadata": {},
   "source": [
    "## Change Log\n",
    "\n",
    "| Date (YYYY-MM-DD) | Version | Changed By    | Change Description        |\n",
    "| ----------------- | ------- | ------------- | ------------------------- |\n",
    "| 2020-11-10        | 1.1     | Malika Singla | Deleted the Optional part |\n",
    "| 2020-08-27        | 1.0     | Malika Singla | Added lab to GitLab       |\n",
    "\n",
    "<hr>\n",
    "\n",
    "## <h3 align=\"center\"> © IBM Corporation 2020. All rights reserved. <h3/>\n",
    "\n",
    "<p>\n"
   ]
  }
 ],
 "metadata": {
  "kernelspec": {
   "display_name": "Python 3 (ipykernel)",
   "language": "python",
   "name": "python3"
  },
  "language_info": {
   "codemirror_mode": {
    "name": "ipython",
    "version": 3
   },
   "file_extension": ".py",
   "mimetype": "text/x-python",
   "name": "python",
   "nbconvert_exporter": "python",
   "pygments_lexer": "ipython3",
   "version": "3.9.7"
  }
 },
 "nbformat": 4,
 "nbformat_minor": 4
}
